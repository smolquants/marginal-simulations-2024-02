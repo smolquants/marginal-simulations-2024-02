{
 "cells": [
  {
   "cell_type": "code",
   "execution_count": 2,
   "id": "cb1660e6-c070-45f4-b822-6a4d17f0be6c",
   "metadata": {},
   "outputs": [],
   "source": [
    "import re\n",
    "import numpy as np\n",
    "import pandas as pd\n",
    "import matplotlib.pyplot as plt\n",
    "\n",
    "from ape import accounts, chain, Contract, networks, project"
   ]
  },
  {
   "cell_type": "code",
   "execution_count": 3,
   "id": "b4ea3767-f82d-4f31-905b-3e198ac7b445",
   "metadata": {},
   "outputs": [
    {
     "data": {
      "text/plain": [
       "<alchemy chain_id=1>"
      ]
     },
     "execution_count": 3,
     "metadata": {},
     "output_type": "execute_result"
    }
   ],
   "source": [
    "# SEE: https://gist.github.com/banteg/dcf6082ff7fc6ad51ce220146f29d9ff\n",
    "networks.parse_network_choice('ethereum:mainnet:alchemy').__enter__()"
   ]
  },
  {
   "cell_type": "code",
   "execution_count": 4,
   "id": "82dee801-f4cd-46f4-b809-1ace1a1bdce6",
   "metadata": {},
   "outputs": [],
   "source": [
    "# mrgl v1 constants\n",
    "MAINTENANCE_UNIT = int(1e6)\n",
    "SECONDS_AGO = 43200  # 12 hr TWAP"
   ]
  },
  {
   "cell_type": "code",
   "execution_count": 5,
   "id": "a346c2bb-500e-4e01-98e5-309b9c9b2bac",
   "metadata": {},
   "outputs": [],
   "source": [
    "FILEPATH = \"results/MarginalV1LPRunner_0x1d42064Fc4Beb5F8aAF85F4617AE8b3b5B8Bd801_250000_0.25_0.25_3.5_0_50400_0.005_17998181_19311400_2400.csv\""
   ]
  },
  {
   "cell_type": "code",
   "execution_count": 6,
   "id": "7cffccb2-c270-4968-9db5-e9937dd8e3ea",
   "metadata": {},
   "outputs": [],
   "source": [
    "[\n",
    "    _,\n",
    "    pool_addr,\n",
    "    maintenance,\n",
    "    utilization,\n",
    "    skew,\n",
    "    leverage,\n",
    "    rel_margin_above_safe_min,\n",
    "    blocks_held,\n",
    "    sqrt_price_tol,\n",
    "    start,\n",
    "    stop,\n",
    "    step\n",
    "] = re.split(\"_\", FILEPATH[len(\"results/\"):-len(\".csv\")])"
   ]
  },
  {
   "cell_type": "code",
   "execution_count": 7,
   "id": "b339f265-41b8-408e-be86-cdf09edf52c8",
   "metadata": {},
   "outputs": [],
   "source": [
    "maintenance = int(maintenance)\n",
    "utilization = float(utilization)\n",
    "skew = float(skew)\n",
    "leverage = float(leverage)\n",
    "rel_margin_above_safe_min = float(rel_margin_above_safe_min)\n",
    "blocks_held = int(blocks_held)\n",
    "sqrt_price_tol = float(sqrt_price_tol)\n",
    "start = int(start)\n",
    "stop = int(stop)\n",
    "step = int(step)"
   ]
  },
  {
   "cell_type": "code",
   "execution_count": 8,
   "id": "49653182-9998-4f63-b70c-d087206b0dff",
   "metadata": {},
   "outputs": [
    {
     "data": {
      "text/plain": [
       "3.5"
      ]
     },
     "execution_count": 8,
     "metadata": {},
     "output_type": "execute_result"
    }
   ],
   "source": [
    "leverage"
   ]
  },
  {
   "cell_type": "code",
   "execution_count": 9,
   "id": "5538bd51-4ab5-4b7a-b967-161cae615230",
   "metadata": {},
   "outputs": [
    {
     "data": {
      "text/html": [
       "<div>\n",
       "<style scoped>\n",
       "    .dataframe tbody tr th:only-of-type {\n",
       "        vertical-align: middle;\n",
       "    }\n",
       "\n",
       "    .dataframe tbody tr th {\n",
       "        vertical-align: top;\n",
       "    }\n",
       "\n",
       "    .dataframe thead th {\n",
       "        text-align: right;\n",
       "    }\n",
       "</style>\n",
       "<table border=\"1\" class=\"dataframe\">\n",
       "  <thead>\n",
       "    <tr style=\"text-align: right;\">\n",
       "      <th></th>\n",
       "      <th>number</th>\n",
       "      <th>timestamp</th>\n",
       "      <th>values0</th>\n",
       "      <th>values1</th>\n",
       "      <th>values2</th>\n",
       "      <th>values3</th>\n",
       "      <th>values4</th>\n",
       "      <th>values5</th>\n",
       "      <th>univ3_sqrtPriceX96</th>\n",
       "      <th>univ3_liquidity</th>\n",
       "      <th>...</th>\n",
       "      <th>_net_liquidity_liquidated_cumulative0</th>\n",
       "      <th>_net_liquidity_liquidated_cumulative1</th>\n",
       "      <th>_net_liquidity_settled_cumulative0</th>\n",
       "      <th>_net_liquidity_settled_cumulative1</th>\n",
       "      <th>_balances_pool0</th>\n",
       "      <th>_balances_pool1</th>\n",
       "      <th>_last_mrglv1_block_timestamp</th>\n",
       "      <th>_last_mrglv1_tick_cumulative</th>\n",
       "      <th>_net_liquidity_swap_fees_cumulative</th>\n",
       "      <th>_net_liquidity_position_fees_cumulative</th>\n",
       "    </tr>\n",
       "  </thead>\n",
       "  <tbody>\n",
       "    <tr>\n",
       "      <th>0</th>\n",
       "      <td>17998182</td>\n",
       "      <td>1708998584</td>\n",
       "      <td>10226805916623846957733</td>\n",
       "      <td>4168010503442910833875654129</td>\n",
       "      <td>0</td>\n",
       "      <td>10226805916623746957673</td>\n",
       "      <td>194397552620084053872985</td>\n",
       "      <td>538008621233460338723</td>\n",
       "      <td>4168008784382137638332327128</td>\n",
       "      <td>1348756457373625844877604</td>\n",
       "      <td>...</td>\n",
       "      <td>0</td>\n",
       "      <td>0</td>\n",
       "      <td>0</td>\n",
       "      <td>0</td>\n",
       "      <td>0</td>\n",
       "      <td>0</td>\n",
       "      <td>-1</td>\n",
       "      <td>-1</td>\n",
       "      <td>0</td>\n",
       "      <td>0</td>\n",
       "    </tr>\n",
       "    <tr>\n",
       "      <th>1</th>\n",
       "      <td>18000582</td>\n",
       "      <td>1708998588</td>\n",
       "      <td>7670480545305599283587</td>\n",
       "      <td>4167684945538446847935294040</td>\n",
       "      <td>2556722172638830439092</td>\n",
       "      <td>10227202717944329718739</td>\n",
       "      <td>194420281185370240489050</td>\n",
       "      <td>537987471246382048461</td>\n",
       "      <td>4174832966775960060884034990</td>\n",
       "      <td>1348756457373625844877604</td>\n",
       "      <td>...</td>\n",
       "      <td>0</td>\n",
       "      <td>0</td>\n",
       "      <td>0</td>\n",
       "      <td>0</td>\n",
       "      <td>194065277576750292549332</td>\n",
       "      <td>552889053808695116370</td>\n",
       "      <td>1708998587</td>\n",
       "      <td>-236748</td>\n",
       "      <td>56581701727828008</td>\n",
       "      <td>327866112482406212</td>\n",
       "    </tr>\n",
       "    <tr>\n",
       "      <th>2</th>\n",
       "      <td>18002982</td>\n",
       "      <td>1709027524</td>\n",
       "      <td>7670499743743404731727</td>\n",
       "      <td>4167695376832776717667634751</td>\n",
       "      <td>2556722172638830439092</td>\n",
       "      <td>10227221916382135166692</td>\n",
       "      <td>194420159535830044032550</td>\n",
       "      <td>537989827683743229027</td>\n",
       "      <td>4198939390493444764294405442</td>\n",
       "      <td>1714990638571862423866014</td>\n",
       "      <td>...</td>\n",
       "      <td>0</td>\n",
       "      <td>0</td>\n",
       "      <td>0</td>\n",
       "      <td>0</td>\n",
       "      <td>194065277576750292549332</td>\n",
       "      <td>552891073624321598797</td>\n",
       "      <td>1709027523</td>\n",
       "      <td>-1704653906</td>\n",
       "      <td>75780139533276148</td>\n",
       "      <td>327866112482406212</td>\n",
       "    </tr>\n",
       "    <tr>\n",
       "      <th>3</th>\n",
       "      <td>18005382</td>\n",
       "      <td>1709056461</td>\n",
       "      <td>7670634839885648795376</td>\n",
       "      <td>4198873182948367358091477799</td>\n",
       "      <td>2556722172638830439092</td>\n",
       "      <td>10227357012524379229020</td>\n",
       "      <td>192979084667355752777740</td>\n",
       "      <td>542021595977263344813</td>\n",
       "      <td>4204231089501474711675342148</td>\n",
       "      <td>1665958413176292228814096</td>\n",
       "      <td>...</td>\n",
       "      <td>0</td>\n",
       "      <td>0</td>\n",
       "      <td>0</td>\n",
       "      <td>0</td>\n",
       "      <td>192985096945523816945434</td>\n",
       "      <td>555916722557499230723</td>\n",
       "      <td>1709056460</td>\n",
       "      <td>-3409129439</td>\n",
       "      <td>210876281777339797</td>\n",
       "      <td>327866112482406212</td>\n",
       "    </tr>\n",
       "    <tr>\n",
       "      <th>4</th>\n",
       "      <td>18007782</td>\n",
       "      <td>1709085433</td>\n",
       "      <td>7670775162980729748692</td>\n",
       "      <td>4198949995219213575614747188</td>\n",
       "      <td>2556722172638830439092</td>\n",
       "      <td>10227497335619460180964</td>\n",
       "      <td>192978202156075131445261</td>\n",
       "      <td>542038948344561510703</td>\n",
       "      <td>4208681782476437507208844991</td>\n",
       "      <td>1665958413176292228814096</td>\n",
       "      <td>...</td>\n",
       "      <td>0</td>\n",
       "      <td>0</td>\n",
       "      <td>0</td>\n",
       "      <td>0</td>\n",
       "      <td>192985096945523816945434</td>\n",
       "      <td>555931596164344408800</td>\n",
       "      <td>1709085432</td>\n",
       "      <td>-5111349957</td>\n",
       "      <td>351199376858293113</td>\n",
       "      <td>327866112482406212</td>\n",
       "    </tr>\n",
       "    <tr>\n",
       "      <th>...</th>\n",
       "      <td>...</td>\n",
       "      <td>...</td>\n",
       "      <td>...</td>\n",
       "      <td>...</td>\n",
       "      <td>...</td>\n",
       "      <td>...</td>\n",
       "      <td>...</td>\n",
       "      <td>...</td>\n",
       "      <td>...</td>\n",
       "      <td>...</td>\n",
       "      <td>...</td>\n",
       "      <td>...</td>\n",
       "      <td>...</td>\n",
       "      <td>...</td>\n",
       "      <td>...</td>\n",
       "      <td>...</td>\n",
       "      <td>...</td>\n",
       "      <td>...</td>\n",
       "      <td>...</td>\n",
       "      <td>...</td>\n",
       "      <td>...</td>\n",
       "    </tr>\n",
       "    <tr>\n",
       "      <th>543</th>\n",
       "      <td>19301382</td>\n",
       "      <td>1724752468</td>\n",
       "      <td>10708538681596057067296</td>\n",
       "      <td>4888448243378506796571728060</td>\n",
       "      <td>3545778278765117556428</td>\n",
       "      <td>14254316960361035241736</td>\n",
       "      <td>231022869515911293205274</td>\n",
       "      <td>879504061360653370914</td>\n",
       "      <td>4875301928444821867630628907</td>\n",
       "      <td>323976533130863515655856</td>\n",
       "      <td>...</td>\n",
       "      <td>345290478441133548404</td>\n",
       "      <td>74124980727251886049</td>\n",
       "      <td>26788584660120699508</td>\n",
       "      <td>15231375904881642011</td>\n",
       "      <td>234087237071982364276301</td>\n",
       "      <td>906808341660800536817</td>\n",
       "      <td>1724752466</td>\n",
       "      <td>-932573553147</td>\n",
       "      <td>3554834574229818879934</td>\n",
       "      <td>10803464094282245086</td>\n",
       "    </tr>\n",
       "    <tr>\n",
       "      <th>544</th>\n",
       "      <td>19303782</td>\n",
       "      <td>1724781441</td>\n",
       "      <td>10718751381843618416744</td>\n",
       "      <td>4893110341361226278681782922</td>\n",
       "      <td>3545778278765117556428</td>\n",
       "      <td>14264529660608596491322</td>\n",
       "      <td>230968115431020901552184</td>\n",
       "      <td>880973575329496784961</td>\n",
       "      <td>4693924590733693082295585449</td>\n",
       "      <td>326421624029424835360987</td>\n",
       "      <td>...</td>\n",
       "      <td>345290478441133548404</td>\n",
       "      <td>74124980727251886049</td>\n",
       "      <td>26788584660120699508</td>\n",
       "      <td>15231375904881642011</td>\n",
       "      <td>234087237071982364276301</td>\n",
       "      <td>908069208032173492635</td>\n",
       "      <td>1724781439</td>\n",
       "      <td>-934187635858</td>\n",
       "      <td>3565047274477380229382</td>\n",
       "      <td>10803464094282245086</td>\n",
       "    </tr>\n",
       "    <tr>\n",
       "      <th>545</th>\n",
       "      <td>19306182</td>\n",
       "      <td>1724810462</td>\n",
       "      <td>10729190831949735795943</td>\n",
       "      <td>4704584952575536598475887701</td>\n",
       "      <td>3545778278765117556428</td>\n",
       "      <td>14274969110714713768441</td>\n",
       "      <td>240399436717717524603356</td>\n",
       "      <td>847650667963653154723</td>\n",
       "      <td>4685171427703644151759713962</td>\n",
       "      <td>327016644406246453261884</td>\n",
       "      <td>...</td>\n",
       "      <td>345290478441133548404</td>\n",
       "      <td>74124980727251886049</td>\n",
       "      <td>26788584660120699508</td>\n",
       "      <td>15231375904881642011</td>\n",
       "      <td>241217886504282448403220</td>\n",
       "      <td>883183568518296888614</td>\n",
       "      <td>1724810461</td>\n",
       "      <td>-935803898439</td>\n",
       "      <td>3575486724583497608581</td>\n",
       "      <td>10803464094282245086</td>\n",
       "    </tr>\n",
       "    <tr>\n",
       "      <th>546</th>\n",
       "      <td>19308582</td>\n",
       "      <td>1724839423</td>\n",
       "      <td>10739456685986716528329</td>\n",
       "      <td>4685939249805138538309078131</td>\n",
       "      <td>3545778278765117556428</td>\n",
       "      <td>14285234964751694400445</td>\n",
       "      <td>241529575397048358309930</td>\n",
       "      <td>844898342833165849767</td>\n",
       "      <td>4699914448871631640965677056</td>\n",
       "      <td>328647811298964781266544</td>\n",
       "      <td>...</td>\n",
       "      <td>345290478441133548404</td>\n",
       "      <td>74124980727251886049</td>\n",
       "      <td>26788584660120699508</td>\n",
       "      <td>15231375904881642011</td>\n",
       "      <td>242110422168870778712285</td>\n",
       "      <td>881265713426966212129</td>\n",
       "      <td>1724839422</td>\n",
       "      <td>-937439525394</td>\n",
       "      <td>3585752578620478340967</td>\n",
       "      <td>10803464094282245086</td>\n",
       "    </tr>\n",
       "    <tr>\n",
       "      <th>547</th>\n",
       "      <td>19310982</td>\n",
       "      <td>1724868467</td>\n",
       "      <td>10749713393005220343979</td>\n",
       "      <td>4690414551247014321171866839</td>\n",
       "      <td>3545778278765117556428</td>\n",
       "      <td>14295491671770198115803</td>\n",
       "      <td>241472374140405591554248</td>\n",
       "      <td>846312473073313514195</td>\n",
       "      <td>4678126005582194590515429025</td>\n",
       "      <td>341435282141543228203821</td>\n",
       "      <td>...</td>\n",
       "      <td>345290478441133548404</td>\n",
       "      <td>74124980727251886049</td>\n",
       "      <td>26788584660120699508</td>\n",
       "      <td>15231375904881642011</td>\n",
       "      <td>242110422168870778712285</td>\n",
       "      <td>882479555964610725672</td>\n",
       "      <td>1724868466</td>\n",
       "      <td>-939082163344</td>\n",
       "      <td>3596009285638982156617</td>\n",
       "      <td>10803464094282245086</td>\n",
       "    </tr>\n",
       "  </tbody>\n",
       "</table>\n",
       "<p>548 rows × 50 columns</p>\n",
       "</div>"
      ],
      "text/plain": [
       "       number   timestamp                  values0  \\\n",
       "0    17998182  1708998584  10226805916623846957733   \n",
       "1    18000582  1708998588   7670480545305599283587   \n",
       "2    18002982  1709027524   7670499743743404731727   \n",
       "3    18005382  1709056461   7670634839885648795376   \n",
       "4    18007782  1709085433   7670775162980729748692   \n",
       "..        ...         ...                      ...   \n",
       "543  19301382  1724752468  10708538681596057067296   \n",
       "544  19303782  1724781441  10718751381843618416744   \n",
       "545  19306182  1724810462  10729190831949735795943   \n",
       "546  19308582  1724839423  10739456685986716528329   \n",
       "547  19310982  1724868467  10749713393005220343979   \n",
       "\n",
       "                          values1                 values2  \\\n",
       "0    4168010503442910833875654129                       0   \n",
       "1    4167684945538446847935294040  2556722172638830439092   \n",
       "2    4167695376832776717667634751  2556722172638830439092   \n",
       "3    4198873182948367358091477799  2556722172638830439092   \n",
       "4    4198949995219213575614747188  2556722172638830439092   \n",
       "..                            ...                     ...   \n",
       "543  4888448243378506796571728060  3545778278765117556428   \n",
       "544  4893110341361226278681782922  3545778278765117556428   \n",
       "545  4704584952575536598475887701  3545778278765117556428   \n",
       "546  4685939249805138538309078131  3545778278765117556428   \n",
       "547  4690414551247014321171866839  3545778278765117556428   \n",
       "\n",
       "                     values3                   values4                values5  \\\n",
       "0    10226805916623746957673  194397552620084053872985  538008621233460338723   \n",
       "1    10227202717944329718739  194420281185370240489050  537987471246382048461   \n",
       "2    10227221916382135166692  194420159535830044032550  537989827683743229027   \n",
       "3    10227357012524379229020  192979084667355752777740  542021595977263344813   \n",
       "4    10227497335619460180964  192978202156075131445261  542038948344561510703   \n",
       "..                       ...                       ...                    ...   \n",
       "543  14254316960361035241736  231022869515911293205274  879504061360653370914   \n",
       "544  14264529660608596491322  230968115431020901552184  880973575329496784961   \n",
       "545  14274969110714713768441  240399436717717524603356  847650667963653154723   \n",
       "546  14285234964751694400445  241529575397048358309930  844898342833165849767   \n",
       "547  14295491671770198115803  241472374140405591554248  846312473073313514195   \n",
       "\n",
       "               univ3_sqrtPriceX96            univ3_liquidity  ...  \\\n",
       "0    4168008784382137638332327128  1348756457373625844877604  ...   \n",
       "1    4174832966775960060884034990  1348756457373625844877604  ...   \n",
       "2    4198939390493444764294405442  1714990638571862423866014  ...   \n",
       "3    4204231089501474711675342148  1665958413176292228814096  ...   \n",
       "4    4208681782476437507208844991  1665958413176292228814096  ...   \n",
       "..                            ...                        ...  ...   \n",
       "543  4875301928444821867630628907   323976533130863515655856  ...   \n",
       "544  4693924590733693082295585449   326421624029424835360987  ...   \n",
       "545  4685171427703644151759713962   327016644406246453261884  ...   \n",
       "546  4699914448871631640965677056   328647811298964781266544  ...   \n",
       "547  4678126005582194590515429025   341435282141543228203821  ...   \n",
       "\n",
       "    _net_liquidity_liquidated_cumulative0  \\\n",
       "0                                       0   \n",
       "1                                       0   \n",
       "2                                       0   \n",
       "3                                       0   \n",
       "4                                       0   \n",
       "..                                    ...   \n",
       "543                 345290478441133548404   \n",
       "544                 345290478441133548404   \n",
       "545                 345290478441133548404   \n",
       "546                 345290478441133548404   \n",
       "547                 345290478441133548404   \n",
       "\n",
       "    _net_liquidity_liquidated_cumulative1  _net_liquidity_settled_cumulative0  \\\n",
       "0                                       0                                   0   \n",
       "1                                       0                                   0   \n",
       "2                                       0                                   0   \n",
       "3                                       0                                   0   \n",
       "4                                       0                                   0   \n",
       "..                                    ...                                 ...   \n",
       "543                  74124980727251886049                26788584660120699508   \n",
       "544                  74124980727251886049                26788584660120699508   \n",
       "545                  74124980727251886049                26788584660120699508   \n",
       "546                  74124980727251886049                26788584660120699508   \n",
       "547                  74124980727251886049                26788584660120699508   \n",
       "\n",
       "     _net_liquidity_settled_cumulative1           _balances_pool0  \\\n",
       "0                                     0                         0   \n",
       "1                                     0  194065277576750292549332   \n",
       "2                                     0  194065277576750292549332   \n",
       "3                                     0  192985096945523816945434   \n",
       "4                                     0  192985096945523816945434   \n",
       "..                                  ...                       ...   \n",
       "543                15231375904881642011  234087237071982364276301   \n",
       "544                15231375904881642011  234087237071982364276301   \n",
       "545                15231375904881642011  241217886504282448403220   \n",
       "546                15231375904881642011  242110422168870778712285   \n",
       "547                15231375904881642011  242110422168870778712285   \n",
       "\n",
       "           _balances_pool1  _last_mrglv1_block_timestamp  \\\n",
       "0                        0                            -1   \n",
       "1    552889053808695116370                    1708998587   \n",
       "2    552891073624321598797                    1709027523   \n",
       "3    555916722557499230723                    1709056460   \n",
       "4    555931596164344408800                    1709085432   \n",
       "..                     ...                           ...   \n",
       "543  906808341660800536817                    1724752466   \n",
       "544  908069208032173492635                    1724781439   \n",
       "545  883183568518296888614                    1724810461   \n",
       "546  881265713426966212129                    1724839422   \n",
       "547  882479555964610725672                    1724868466   \n",
       "\n",
       "     _last_mrglv1_tick_cumulative _net_liquidity_swap_fees_cumulative  \\\n",
       "0                              -1                                   0   \n",
       "1                         -236748                   56581701727828008   \n",
       "2                     -1704653906                   75780139533276148   \n",
       "3                     -3409129439                  210876281777339797   \n",
       "4                     -5111349957                  351199376858293113   \n",
       "..                            ...                                 ...   \n",
       "543                 -932573553147              3554834574229818879934   \n",
       "544                 -934187635858              3565047274477380229382   \n",
       "545                 -935803898439              3575486724583497608581   \n",
       "546                 -937439525394              3585752578620478340967   \n",
       "547                 -939082163344              3596009285638982156617   \n",
       "\n",
       "    _net_liquidity_position_fees_cumulative  \n",
       "0                                         0  \n",
       "1                        327866112482406212  \n",
       "2                        327866112482406212  \n",
       "3                        327866112482406212  \n",
       "4                        327866112482406212  \n",
       "..                                      ...  \n",
       "543                    10803464094282245086  \n",
       "544                    10803464094282245086  \n",
       "545                    10803464094282245086  \n",
       "546                    10803464094282245086  \n",
       "547                    10803464094282245086  \n",
       "\n",
       "[548 rows x 50 columns]"
      ]
     },
     "execution_count": 9,
     "metadata": {},
     "output_type": "execute_result"
    }
   ],
   "source": [
    "# values array from backtester for marginal LP pool\n",
    "# values = [liquidity, sqrtPriceX96, liquidityLocked, lpTotalLiquidity, lpAmount0, lpAmount1]\n",
    "df = pd.read_csv(FILEPATH)\n",
    "df"
   ]
  },
  {
   "cell_type": "code",
   "execution_count": 10,
   "id": "6c0d1121-08f9-449f-8eb0-598f91ed803d",
   "metadata": {},
   "outputs": [
    {
     "data": {
      "text/plain": [
       "Index(['number', 'timestamp', 'values0', 'values1', 'values2', 'values3',\n",
       "       'values4', 'values5', 'univ3_sqrtPriceX96', 'univ3_liquidity',\n",
       "       'univ3_feeGrowthGlobal0X128', 'univ3_feeGrowthGlobal1X128',\n",
       "       'univ3_observation0_tick_cumulatives',\n",
       "       'univ3_observation1_tick_cumulatives', '_token_ids0', '_token_ids1',\n",
       "       '_blocks_settle0', '_blocks_settle1', '_sizes_outstanding0',\n",
       "       '_sizes_outstanding1', '_margins_outstanding0', '_margins_outstanding1',\n",
       "       '_debts_outstanding0', '_debts_outstanding1',\n",
       "       '_debts_without_funding_outstanding0',\n",
       "       '_debts_without_funding_outstanding1', '_funding_rates_outstanding0',\n",
       "       '_funding_rates_outstanding1', '_amounts0_locked0', '_amounts0_locked1',\n",
       "       '_amounts1_locked0', '_amounts1_locked1',\n",
       "       '_positions_liquidated_cumulative0',\n",
       "       '_positions_liquidated_cumulative1', '_positions_settled_cumulative0',\n",
       "       '_positions_settled_cumulative1', '_sizes_liquidated_cumulative0',\n",
       "       '_sizes_liquidated_cumulative1', '_sizes_settled_cumulative0',\n",
       "       '_sizes_settled_cumulative1', '_net_liquidity_liquidated_cumulative0',\n",
       "       '_net_liquidity_liquidated_cumulative1',\n",
       "       '_net_liquidity_settled_cumulative0',\n",
       "       '_net_liquidity_settled_cumulative1', '_balances_pool0',\n",
       "       '_balances_pool1', '_last_mrglv1_block_timestamp',\n",
       "       '_last_mrglv1_tick_cumulative', '_net_liquidity_swap_fees_cumulative',\n",
       "       '_net_liquidity_position_fees_cumulative'],\n",
       "      dtype='object')"
      ]
     },
     "execution_count": 10,
     "metadata": {},
     "output_type": "execute_result"
    }
   ],
   "source": [
    "df.columns"
   ]
  },
  {
   "cell_type": "code",
   "execution_count": 11,
   "id": "acbd2e86-08eb-4b64-839b-95aa80fd0724",
   "metadata": {},
   "outputs": [],
   "source": [
    "# plot mrgl pool tick vs oracle time weighted average tick over time\n",
    "def calc_tick_from_sqrt_price_x96(sqrt_price_x96: int) -> int:\n",
    "    price = (int(sqrt_price_x96) ** 2) / (1 << 192)\n",
    "    return int(np.log(price) / np.log(1.0001))"
   ]
  },
  {
   "cell_type": "code",
   "execution_count": 12,
   "id": "908717eb-4e38-4f78-baf1-efbaa50e063f",
   "metadata": {},
   "outputs": [
    {
     "data": {
      "text/plain": [
       "0     -58900\n",
       "1     -58902\n",
       "2     -58902\n",
       "3     -58753\n",
       "4     -58752\n",
       "       ...  \n",
       "543   -55711\n",
       "544   -55692\n",
       "545   -56478\n",
       "546   -56558\n",
       "547   -56539\n",
       "Name: tick, Length: 548, dtype: int64"
      ]
     },
     "execution_count": 12,
     "metadata": {},
     "output_type": "execute_result"
    }
   ],
   "source": [
    "df['tick'] = df['values1'].apply(calc_tick_from_sqrt_price_x96)\n",
    "df['tick']"
   ]
  },
  {
   "cell_type": "code",
   "execution_count": 13,
   "id": "287a02e1-b17b-436a-8eaa-427626daafbb",
   "metadata": {},
   "outputs": [
    {
     "data": {
      "text/plain": [
       "0     -58900\n",
       "1     -58868\n",
       "2     -58752\n",
       "3     -58727\n",
       "4     -58706\n",
       "       ...  \n",
       "543   -55765\n",
       "544   -56524\n",
       "545   -56561\n",
       "546   -56498\n",
       "547   -56591\n",
       "Name: univ3_tick, Length: 548, dtype: int64"
      ]
     },
     "execution_count": 13,
     "metadata": {},
     "output_type": "execute_result"
    }
   ],
   "source": [
    "df['univ3_tick'] = df['univ3_sqrtPriceX96'].apply(calc_tick_from_sqrt_price_x96)\n",
    "df['univ3_tick']"
   ]
  },
  {
   "cell_type": "code",
   "execution_count": 14,
   "id": "94c99c70-d388-45e6-a86f-a52f649b17a9",
   "metadata": {},
   "outputs": [],
   "source": [
    "def calc_time_weighted_average_tick(tick_cumulatives_diff: int) -> int:\n",
    "    return int(tick_cumulatives_diff) // int(SECONDS_AGO)"
   ]
  },
  {
   "cell_type": "code",
   "execution_count": 15,
   "id": "41cc5abd-1944-4f92-9454-10c0b1815c92",
   "metadata": {},
   "outputs": [
    {
     "data": {
      "text/plain": [
       "0     -58932\n",
       "1     -58893\n",
       "2     -58825\n",
       "3     -58756\n",
       "4     -58732\n",
       "       ...  \n",
       "543   -55796\n",
       "544   -56295\n",
       "545   -56600\n",
       "546   -56609\n",
       "547   -56511\n",
       "Name: oracle_tick, Length: 548, dtype: int64"
      ]
     },
     "execution_count": 15,
     "metadata": {},
     "output_type": "execute_result"
    }
   ],
   "source": [
    "# observation0 at timestamp - seconds_ago; observation1 at timestamp\n",
    "df['oracle_tick'] = (df['univ3_observation1_tick_cumulatives'] - df['univ3_observation0_tick_cumulatives']).apply(calc_time_weighted_average_tick)\n",
    "df['oracle_tick']"
   ]
  },
  {
   "cell_type": "code",
   "execution_count": 16,
   "id": "58340372-e4db-47b3-96d6-6d66752978b4",
   "metadata": {},
   "outputs": [
    {
     "data": {
      "text/plain": [
       "<Axes: xlabel='number'>"
      ]
     },
     "execution_count": 16,
     "metadata": {},
     "output_type": "execute_result"
    },
    {
     "data": {
      "image/png": "[encoded data removed]",
      "text/plain": [
       "<Figure size 640x480 with 1 Axes>"
      ]
     },
     "metadata": {},
     "output_type": "display_data"
    }
   ],
   "source": [
    "df.plot(x='number', y=['tick', 'oracle_tick'])"
   ]
  },
  {
   "cell_type": "code",
   "execution_count": 17,
   "id": "6b6534d0-3312-45a1-85bc-d84067cca1bf",
   "metadata": {},
   "outputs": [
    {
     "data": {
      "text/plain": [
       "<Axes: xlabel='number'>"
      ]
     },
     "execution_count": 17,
     "metadata": {},
     "output_type": "execute_result"
    },
    {
     "data": {
      "image/png": "[encoded data removed]",
      "text/plain": [
       "<Figure size 640x480 with 1 Axes>"
      ]
     },
     "metadata": {},
     "output_type": "display_data"
    }
   ],
   "source": [
    "# zoom in to a 5 day window at end to see oracle tick timelag\n",
    "# 12 hr TWAP lags so insurance mechanism for LPs must be robust to guarantee no bad debt\n",
    "# have lag in marginal pool tick vs uni tick due to arbs only happening every step period\n",
    "df[df['timestamp'] > df['timestamp'].iloc[-1] - 5 * 86400].plot(x='number', y=['tick', 'oracle_tick', 'univ3_tick'])"
   ]
  },
  {
   "cell_type": "code",
   "execution_count": 18,
   "id": "1945fb84-8936-46ce-8168-3baec218318f",
   "metadata": {},
   "outputs": [
    {
     "data": {
      "text/plain": [
       "0     -58902\n",
       "1     -58902\n",
       "2     -58753\n",
       "3     -58752\n",
       "4     -58752\n",
       "       ...  \n",
       "543   -55692\n",
       "544   -56478\n",
       "545   -56558\n",
       "546   -56539\n",
       "547   -56539\n",
       "Name: tick_shifted, Length: 548, dtype: int64"
      ]
     },
     "execution_count": 18,
     "metadata": {},
     "output_type": "execute_result"
    }
   ],
   "source": [
    "# lag in marginal pool tick vs uni tick due to tick value recording pool state *before* arbitrage executed\n",
    "# on strategy update. shift one to compare\n",
    "df['tick_shifted'] = df['values1'].shift(periods=-1, fill_value=df['values1'].iloc[-1]).apply(calc_tick_from_sqrt_price_x96)\n",
    "df['tick_shifted']"
   ]
  },
  {
   "cell_type": "code",
   "execution_count": 19,
   "id": "589e000e-8915-4c41-9223-a2698fff829e",
   "metadata": {},
   "outputs": [
    {
     "data": {
      "text/plain": [
       "<Axes: xlabel='number'>"
      ]
     },
     "execution_count": 19,
     "metadata": {},
     "output_type": "execute_result"
    },
    {
     "data": {
      "image/png": "[encoded data removed]",
      "text/plain": [
       "<Figure size 640x480 with 1 Axes>"
      ]
     },
     "metadata": {},
     "output_type": "display_data"
    }
   ],
   "source": [
    "# now in line when use arb'd pool state at end of update strategy\n",
    "df[df['timestamp'] > df['timestamp'].iloc[-1] - 5 * 86400].plot(x='number', y=['tick_shifted', 'oracle_tick', 'univ3_tick'])"
   ]
  },
  {
   "cell_type": "code",
   "execution_count": 20,
   "id": "ee8d8097-2575-4c20-9af1-d9eb39bc299b",
   "metadata": {},
   "outputs": [],
   "source": [
    "# plot mrgl pool price vs oracle time weighted average price over time\n",
    "def calc_price_from_tick(tick: int) -> float:\n",
    "    return 1.0001 ** tick"
   ]
  },
  {
   "cell_type": "code",
   "execution_count": 21,
   "id": "e867f8ad-791e-4c2e-bed9-62e8865e4dbd",
   "metadata": {},
   "outputs": [
    {
     "data": {
      "text/plain": [
       "0      0.002768\n",
       "1      0.002767\n",
       "2      0.002767\n",
       "3      0.002809\n",
       "4      0.002809\n",
       "         ...   \n",
       "543    0.003807\n",
       "544    0.003815\n",
       "545    0.003526\n",
       "546    0.003498\n",
       "547    0.003505\n",
       "Name: price, Length: 548, dtype: float64"
      ]
     },
     "execution_count": 21,
     "metadata": {},
     "output_type": "execute_result"
    }
   ],
   "source": [
    "df['price'] = df['tick'].apply(calc_price_from_tick)\n",
    "df['price']"
   ]
  },
  {
   "cell_type": "code",
   "execution_count": 22,
   "id": "30e566d6-472d-4e07-aa3e-f867f0a695de",
   "metadata": {},
   "outputs": [
    {
     "data": {
      "text/plain": [
       "0      0.002767\n",
       "1      0.002767\n",
       "2      0.002809\n",
       "3      0.002809\n",
       "4      0.002809\n",
       "         ...   \n",
       "543    0.003815\n",
       "544    0.003526\n",
       "545    0.003498\n",
       "546    0.003505\n",
       "547    0.003505\n",
       "Name: price_shifted, Length: 548, dtype: float64"
      ]
     },
     "execution_count": 22,
     "metadata": {},
     "output_type": "execute_result"
    }
   ],
   "source": [
    "df['price_shifted'] = df['tick_shifted'].apply(calc_price_from_tick)\n",
    "df['price_shifted']"
   ]
  },
  {
   "cell_type": "code",
   "execution_count": 23,
   "id": "5c3dc382-c84f-4fc5-99bc-fe076ce43fe3",
   "metadata": {},
   "outputs": [
    {
     "data": {
      "text/plain": [
       "0      0.002759\n",
       "1      0.002770\n",
       "2      0.002789\n",
       "3      0.002808\n",
       "4      0.002815\n",
       "         ...   \n",
       "543    0.003775\n",
       "544    0.003591\n",
       "545    0.003484\n",
       "546    0.003480\n",
       "547    0.003515\n",
       "Name: oracle_price, Length: 548, dtype: float64"
      ]
     },
     "execution_count": 23,
     "metadata": {},
     "output_type": "execute_result"
    }
   ],
   "source": [
    "df['oracle_price'] = df['oracle_tick'].apply(calc_price_from_tick)\n",
    "df['oracle_price']"
   ]
  },
  {
   "cell_type": "code",
   "execution_count": 24,
   "id": "0e9dbbae-efcc-48f1-8c2c-a0458db827bb",
   "metadata": {},
   "outputs": [
    {
     "data": {
      "text/plain": [
       "0      0.002768\n",
       "1      0.002777\n",
       "2      0.002809\n",
       "3      0.002816\n",
       "4      0.002822\n",
       "         ...   \n",
       "543    0.003787\n",
       "544    0.003510\n",
       "545    0.003497\n",
       "546    0.003519\n",
       "547    0.003487\n",
       "Name: univ3_price, Length: 548, dtype: float64"
      ]
     },
     "execution_count": 24,
     "metadata": {},
     "output_type": "execute_result"
    }
   ],
   "source": [
    "df['univ3_price'] = df['univ3_tick'].apply(calc_price_from_tick)\n",
    "df['univ3_price']"
   ]
  },
  {
   "cell_type": "code",
   "execution_count": null,
   "id": "e66cb3f6-65f4-4ece-a03e-34adec6db09e",
   "metadata": {},
   "outputs": [],
   "source": [
    "fp = \"assets/\" + FILEPATH[len(\"results/\"):-len(\".csv\")] + \"-prices.png\"\n",
    "ax = df.plot(x='number', y=['price', 'oracle_price'])\n",
    "ax.get_figure().savefig(fp)"
   ]
  },
  {
   "cell_type": "code",
   "execution_count": null,
   "id": "4ac1ef6d-fd5d-4228-9c82-5f88a5c06eb2",
   "metadata": {},
   "outputs": [],
   "source": [
    "df[df['timestamp'] > df['timestamp'].iloc[-1] - 5 * 86400].plot(x='number', y=['price_shifted', 'oracle_price', 'univ3_price'])"
   ]
  },
  {
   "cell_type": "code",
   "execution_count": null,
   "id": "e762a29a-21ab-40a9-92c7-d17e780efd93",
   "metadata": {},
   "outputs": [],
   "source": [
    "# show cumulative funding rates through blocks held\n",
    "df.filter(['_funding_rates_outstanding0', '_funding_rates_outstanding1'])"
   ]
  },
  {
   "cell_type": "code",
   "execution_count": null,
   "id": "1f03cfbd-2872-45f0-be02-4342ba69aac5",
   "metadata": {},
   "outputs": [],
   "source": [
    "# plot liquidity gained over time. convert to datatype first\n",
    "df['lp_total_liquidity'] = df['values3'].apply(lambda v: int(v))\n",
    "df['lp_amount0'] = df['values4'].apply(lambda v: int(v))\n",
    "df['lp_amount1'] = df['values5'].apply(lambda v: int(v))"
   ]
  },
  {
   "cell_type": "code",
   "execution_count": null,
   "id": "0ff103cb-6eb6-4721-9507-22a832f4eb46",
   "metadata": {},
   "outputs": [],
   "source": [
    "df"
   ]
  },
  {
   "cell_type": "code",
   "execution_count": null,
   "id": "24afbec6-bfce-498b-a250-ac02827c2a84",
   "metadata": {},
   "outputs": [],
   "source": [
    "df['net_liquidity_settled_cumulative_zero_for_one'] = df['_net_liquidity_settled_cumulative0'].apply(lambda v: int(v))\n",
    "df['net_liquidity_settled_cumulative_one_for_zero'] = df['_net_liquidity_settled_cumulative1'].apply(lambda v: int(v))\n",
    "df['net_liquidity_settled_cumulative'] = df['net_liquidity_settled_cumulative_zero_for_one'] + df['net_liquidity_settled_cumulative_one_for_zero']\n",
    "\n",
    "df['net_liquidity_liquidated_cumulative_zero_for_one'] = df['_net_liquidity_liquidated_cumulative0'].apply(lambda v: int(v))\n",
    "df['net_liquidity_liquidated_cumulative_one_for_zero'] = df['_net_liquidity_liquidated_cumulative1'].apply(lambda v: int(v))\n",
    "df['net_liquidity_liquidated_cumulative'] = df['net_liquidity_liquidated_cumulative_zero_for_one'] + df['net_liquidity_liquidated_cumulative_one_for_zero']\n",
    "\n",
    "df['net_liquidity_swap_fees_cumulative'] = df['_net_liquidity_swap_fees_cumulative'].apply(lambda v: int(v))\n",
    "df['net_liquidity_position_fees_cumulative'] = df['_net_liquidity_position_fees_cumulative'].apply(lambda v: int(v))\n",
    "df['net_liquidity_fees_cumulative'] = df['net_liquidity_swap_fees_cumulative'] + df['net_liquidity_position_fees_cumulative']"
   ]
  },
  {
   "cell_type": "code",
   "execution_count": null,
   "id": "bab28817-ceea-4780-9ddd-55370f233e27",
   "metadata": {},
   "outputs": [],
   "source": [
    "df['net_liquidity_total_cumulative'] = df['lp_total_liquidity'] - df['lp_total_liquidity'].iloc[0]"
   ]
  },
  {
   "cell_type": "code",
   "execution_count": null,
   "id": "c27db395-de5a-424c-95dd-fa9430fae8eb",
   "metadata": {},
   "outputs": [],
   "source": [
    "df"
   ]
  },
  {
   "cell_type": "code",
   "execution_count": null,
   "id": "792d4b74-6fe1-42aa-87d9-73c6ff4d7ea6",
   "metadata": {},
   "outputs": [],
   "source": [
    "# put in yield terms relative to initial liquidity\n",
    "df['lp_total_liquidity'].iloc[0]"
   ]
  },
  {
   "cell_type": "code",
   "execution_count": null,
   "id": "6c10b82c-4c73-4456-b09f-a457919f5638",
   "metadata": {},
   "outputs": [],
   "source": [
    "df['yield_liquidity_total'] = (df['lp_total_liquidity'] / df['lp_total_liquidity'].iloc[0] - 1)\n",
    "df['yield_liquidity_fees'] = (df['net_liquidity_fees_cumulative'] / df['lp_total_liquidity'].iloc[0])\n",
    "df['yield_liquidity_settled'] = (df['net_liquidity_settled_cumulative'] / df['lp_total_liquidity'].iloc[0])\n",
    "df['yield_liquidity_liquidated'] = (df['net_liquidity_liquidated_cumulative'] / df['lp_total_liquidity'].iloc[0])"
   ]
  },
  {
   "cell_type": "code",
   "execution_count": null,
   "id": "2fd02f37-ac26-4f4a-a96f-63c967f225b4",
   "metadata": {},
   "outputs": [],
   "source": [
    "df"
   ]
  },
  {
   "cell_type": "code",
   "execution_count": null,
   "id": "1416fd4b-8719-4cda-9169-3a34c7d314e0",
   "metadata": {},
   "outputs": [],
   "source": [
    "fp = \"assets/\" + FILEPATH[len(\"results/\"):-len(\".csv\")] + \"-yields.png\"\n",
    "ax = df.plot(x='number', y=['yield_liquidity_total', 'yield_liquidity_fees', 'yield_liquidity_settled', 'yield_liquidity_liquidated'])\n",
    "ax.get_figure().savefig(fp)"
   ]
  },
  {
   "cell_type": "code",
   "execution_count": null,
   "id": "086ffa26-41b1-43a7-a5b1-f7d4138ad959",
   "metadata": {},
   "outputs": [],
   "source": [
    "# look at net liquidity liquidated over time and check no shortfalls due to liquidations (i.e. no bad debt)\n",
    "fp = \"assets/\" + FILEPATH[len(\"results/\"):-len(\".csv\")] + \"-yields-liquidated.png\"\n",
    "ax = df.plot(x='number', y=['yield_liquidity_liquidated'], color=['r'])\n",
    "ax.get_figure().savefig(fp)"
   ]
  },
  {
   "cell_type": "code",
   "execution_count": null,
   "id": "59075e85-efbf-416c-82b1-bc40da88fe94",
   "metadata": {},
   "outputs": [],
   "source": [
    "# focus on last 5 day window ...\n",
    "fp = \"assets/\" + FILEPATH[len(\"results/\"):-len(\".csv\")] + \"-price_vs_liquidations_yield_T-5.png\"\n",
    "fig, ax = plt.subplots(2, 1)\n",
    "df[df['timestamp'] > df['timestamp'].iloc[-1] - 5 * 86400].plot(x='number', y=['price_shifted', 'oracle_price', 'univ3_price'], label=['price', 'oracle_price', 'univ3_price'], ax=ax[0])\n",
    "df[df['timestamp'] > df['timestamp'].iloc[-1] - 5 * 86400].plot(x='number', y=['yield_liquidity_liquidated'], color=['r'], ax=ax[1])\n",
    "fig.savefig(fp)"
   ]
  },
  {
   "cell_type": "code",
   "execution_count": null,
   "id": "4b955bea-e2f1-40e0-8f72-85247ebfe1b9",
   "metadata": {},
   "outputs": [],
   "source": [
    "# focus on last 5 day window with dots to be sure ...\n",
    "# liquidation happens when prices at highest tick, and closest for uni/weth pools: all prices around 0.004 ETH / UNI\n",
    "\n",
    "# @dev note that `runner::update_strategy` called *after* query on `backtester::values()`: @smolquants/backtest-ape/backtest_ape/base.py#L309\n",
    "#      in same number iteration. so arbs and liquidations recorded at same `tick` as `values()` query.\n",
    "fp = \"assets/\" + FILEPATH[len(\"results/\"):-len(\".csv\")] + \"-price_vs_liquidations_yield_T-5_dots.png\"\n",
    "fig, ax = plt.subplots(2, 1)\n",
    "df[df['timestamp'] > df['timestamp'].iloc[-1] - 5 * 86400].plot(x='number', y=['price_shifted', 'oracle_price', 'univ3_price'], label=['price', 'oracle_price', 'univ3_price'], ax=ax[0], style=['.', '.', '.'])\n",
    "df[df['timestamp'] > df['timestamp'].iloc[-1] - 5 * 86400].plot(x='number', y=['yield_liquidity_liquidated'], color=['r'], ax=ax[1], style=['.'])\n",
    "fig.savefig(fp)"
   ]
  },
  {
   "cell_type": "code",
   "execution_count": null,
   "id": "0766e89f-143a-4a00-9109-9c31de2d8eeb",
   "metadata": {},
   "outputs": [],
   "source": [
    "# and for settled? dependent on funding rates. order of mag smaller than contribution from liquidations\n",
    "fp = \"assets/\" + FILEPATH[len(\"results/\"):-len(\".csv\")] + \"-yields-settled.png\"\n",
    "ax = df.plot(x='number', y=['yield_liquidity_settled'], color=['g'])\n",
    "ax.get_figure().savefig(fp)"
   ]
  },
  {
   "cell_type": "code",
   "execution_count": null,
   "id": "505fc613-d60a-4162-8ae8-3f4b28e39c5e",
   "metadata": {},
   "outputs": [],
   "source": [
    "def calc_reserves_from_liquidity_sqrt_price_x96(sqrt_price_x96: int, liquidity: int) -> (int, int):\n",
    "    amount0 = (int(liquidity) << 96) // int(sqrt_price_x96)\n",
    "    amount1 = (int(liquidity) * int(sqrt_price_x96)) // (1 << 96)\n",
    "    return (amount0, amount1)"
   ]
  },
  {
   "cell_type": "code",
   "execution_count": null,
   "id": "ee37a77b-a10e-47df-9551-15d516235a34",
   "metadata": {},
   "outputs": [],
   "source": [
    "# check actual token balances in the pool can cover pool liquidity post-settle, liquidate of outstanding positions\n",
    "df['balance0_pool'] = df['_balances_pool0'].apply(lambda v: int(v))\n",
    "df['balance1_pool'] = df['_balances_pool1'].apply(lambda v: int(v))"
   ]
  },
  {
   "cell_type": "code",
   "execution_count": null,
   "id": "04d9fc79-9d72-4128-b290-ac854bfc103a",
   "metadata": {},
   "outputs": [],
   "source": [
    "df[\"liquidity\"] = df[\"values0\"].apply(lambda v: int(v))\n",
    "df[\"sqrtPriceX96\"] = df[\"values1\"].apply(lambda v: int(v))"
   ]
  },
  {
   "cell_type": "code",
   "execution_count": null,
   "id": "4982614c-b78b-4864-8514-88b95ecdd693",
   "metadata": {},
   "outputs": [],
   "source": [
    "df['reserve0'] = df.apply(lambda x: calc_reserves_from_liquidity_sqrt_price_x96(x.sqrtPriceX96, x.liquidity)[0], axis=1)\n",
    "df['reserve1'] = df.apply(lambda x: calc_reserves_from_liquidity_sqrt_price_x96(x.sqrtPriceX96, x.liquidity)[1], axis=1)"
   ]
  },
  {
   "cell_type": "code",
   "execution_count": null,
   "id": "451984d1-5ac3-4425-b43d-d6e2e1eff7ef",
   "metadata": {},
   "outputs": [],
   "source": [
    "df['amounts0_locked_zero_for_one'] = df['_amounts0_locked0'].apply(lambda v: int(v))\n",
    "df['amounts1_locked_zero_for_one'] = df['_amounts1_locked0'].apply(lambda v: int(v))\n",
    "df['amounts0_locked_one_for_zero'] = df['_amounts0_locked1'].apply(lambda v: int(v))\n",
    "df['amounts1_locked_one_for_zero'] = df['_amounts1_locked1'].apply(lambda v: int(v))"
   ]
  },
  {
   "cell_type": "code",
   "execution_count": null,
   "id": "bf87e325-3838-4970-bdef-1a2426e13672",
   "metadata": {},
   "outputs": [],
   "source": [
    "df['collaterals_zero_for_one'] = df['_sizes_outstanding0'].apply(lambda v: int(v)) + df['_margins_outstanding0'].apply(lambda v: int(v))\n",
    "df['debts_zero_for_one'] = df['_debts_outstanding0'].apply(lambda v: int(v))\n",
    "df['collaterals_one_for_zero'] = df['_sizes_outstanding1'].apply(lambda v: int(v)) + df['_margins_outstanding1'].apply(lambda v: int(v))\n",
    "df['debts_one_for_zero'] = df['_debts_outstanding1'].apply(lambda v: int(v))"
   ]
  },
  {
   "cell_type": "code",
   "execution_count": null,
   "id": "c6f6c77b-0b8a-4dbd-be69-c89031828523",
   "metadata": {},
   "outputs": [],
   "source": [
    "df['reserve0_liquidated'] = df['reserve0'] + df['amounts0_locked_zero_for_one'] + df['amounts0_locked_one_for_zero']\n",
    "df['reserve1_liquidated'] = df['reserve1'] + df['amounts1_locked_zero_for_one'] + df['amounts1_locked_one_for_zero']"
   ]
  },
  {
   "cell_type": "code",
   "execution_count": null,
   "id": "2ff35f5d-7c09-4af4-a62c-07ff292555e2",
   "metadata": {},
   "outputs": [],
   "source": [
    "df.filter(['reserve0_liquidated', 'balance0_pool', 'reserve1_liquidated', 'balance1_pool'])"
   ]
  },
  {
   "cell_type": "code",
   "execution_count": null,
   "id": "bf277391-4bf4-4640-a8ba-109191d332ae",
   "metadata": {},
   "outputs": [],
   "source": [
    "# should be some dust left over in pool or very little negative amounts (won't be stuck due to transfer helper lib)\n",
    "df['net_balance0_pool'] = df['balance0_pool'] - df['reserve0_liquidated']\n",
    "df['net_balance1_pool'] = df['balance1_pool'] - df['reserve1_liquidated']"
   ]
  },
  {
   "cell_type": "code",
   "execution_count": null,
   "id": "35618a22-4d63-4e73-9ed7-7e8155c783b8",
   "metadata": {},
   "outputs": [],
   "source": [
    "df['rel_balance0_pool'] = df['net_balance0_pool'] / df['reserve0_liquidated']\n",
    "df['rel_balance1_pool'] = df['net_balance1_pool'] / df['reserve1_liquidated']"
   ]
  },
  {
   "cell_type": "code",
   "execution_count": null,
   "id": "9edfc6fe-c92a-4cdd-98ce-060298b737fb",
   "metadata": {},
   "outputs": [],
   "source": [
    "# dust for balance check\n",
    "df.filter(['net_balance0_pool', 'net_balance1_pool', 'rel_balance0_pool', 'rel_balance1_pool'])"
   ]
  },
  {
   "cell_type": "code",
   "execution_count": null,
   "id": "4af69c84-8cdc-4147-a64f-06bfb73f87a7",
   "metadata": {},
   "outputs": [],
   "source": [
    "print(f\"last excess reserves (relative): {(df['rel_balance0_pool'].iloc[-1], df['rel_balance1_pool'].iloc[-1])}\")"
   ]
  },
  {
   "cell_type": "code",
   "execution_count": null,
   "id": "10e7d61b-52dc-4469-a0e3-0fb6ebc4ac7c",
   "metadata": {},
   "outputs": [],
   "source": [
    "df.plot(x='number', y=['_positions_liquidated_cumulative0', '_positions_liquidated_cumulative1'])"
   ]
  },
  {
   "cell_type": "code",
   "execution_count": null,
   "id": "e122dff8-d71b-4aa7-89fe-5c7a6235720b",
   "metadata": {},
   "outputs": [],
   "source": [
    "df['sizes_outstanding_zero_for_one'] = df['_sizes_outstanding0'].apply(lambda v: int(v))\n",
    "df['sizes_outstanding_one_for_zero'] = df['_sizes_outstanding1'].apply(lambda v: int(v))"
   ]
  },
  {
   "cell_type": "code",
   "execution_count": null,
   "id": "dd79e412-eaa8-441e-a698-ce3328f6760c",
   "metadata": {},
   "outputs": [],
   "source": [
    "# relative to initial total liquidity x, y amounts\n",
    "df['rel_sizes_outstanding_zero_for_one'] = df['sizes_outstanding_zero_for_one'] / df['lp_amount1'].iloc[0]  # size in token1\n",
    "df['rel_sizes_outstanding_one_for_zero'] = df['sizes_outstanding_one_for_zero'] / df['lp_amount0'].iloc[0]  # size in token0"
   ]
  },
  {
   "cell_type": "code",
   "execution_count": null,
   "id": "63a4b63f-e4be-4c98-bdcb-2a0f192775c2",
   "metadata": {},
   "outputs": [],
   "source": [
    "fig, ax = plt.subplots(2, 1)\n",
    "df[1:].plot(x='number', y=['rel_sizes_outstanding_zero_for_one'], ax=ax[0], color=['C0'])\n",
    "df[1:].plot(x='number', y=['rel_sizes_outstanding_one_for_zero'], ax=ax[1], color=['C1'])"
   ]
  },
  {
   "cell_type": "code",
   "execution_count": null,
   "id": "43b8e171-14f9-4001-90ba-4c187afc3978",
   "metadata": {},
   "outputs": [],
   "source": [
    "df['sizes_liquidated_cumulative_zero_for_one'] = df['_sizes_liquidated_cumulative0'].apply(lambda v: int(v))\n",
    "df['sizes_liquidated_cumulative_one_for_zero'] = df['_sizes_liquidated_cumulative1'].apply(lambda v: int(v))\n",
    "df['sizes_settled_cumulative_zero_for_one'] = df['_sizes_settled_cumulative0'].apply(lambda v: int(v))\n",
    "df['sizes_settled_cumulative_one_for_zero'] = df['_sizes_settled_cumulative1'].apply(lambda v: int(v))"
   ]
  },
  {
   "cell_type": "code",
   "execution_count": null,
   "id": "8f617ba7-0431-4dec-8902-f999bfb89929",
   "metadata": {},
   "outputs": [],
   "source": [
    "# relative to initial total liquidity x, y amounts\n",
    "df['rel_sizes_liquidated_cumulative_zero_for_one'] = df['sizes_liquidated_cumulative_zero_for_one'] / df['lp_amount1'].iloc[0]  # size in token1\n",
    "df['rel_sizes_liquidated_cumulative_one_for_zero'] = df['sizes_liquidated_cumulative_one_for_zero'] / df['lp_amount0'].iloc[0]  # size in token0\n",
    "df['rel_sizes_settled_cumulative_zero_for_one'] = df['sizes_settled_cumulative_zero_for_one'] / df['lp_amount1'].iloc[0]  # size in token1\n",
    "df['rel_sizes_settled_cumulative_one_for_zero'] = df['sizes_settled_cumulative_one_for_zero'] / df['lp_amount0'].iloc[0]  # size in token0"
   ]
  },
  {
   "cell_type": "code",
   "execution_count": null,
   "id": "379b2014-482d-4965-8b13-f8e5395c12c5",
   "metadata": {},
   "outputs": [],
   "source": [
    "fp = \"assets/\" + FILEPATH[len(\"results/\"):-len(\".csv\")] + \"-rel-sizes-liquidated-settled.png\"\n",
    "fig, ax = plt.subplots(4, 1)\n",
    "df.plot(x='number', y=['rel_sizes_liquidated_cumulative_zero_for_one'], ax=ax[0], color='C0')\n",
    "df.plot(x='number', y=['rel_sizes_liquidated_cumulative_one_for_zero'], ax=ax[1], color='C1')\n",
    "df.plot(x='number', y=['rel_sizes_settled_cumulative_zero_for_one'], ax=ax[2], color='C2')\n",
    "df.plot(x='number', y=['rel_sizes_settled_cumulative_one_for_zero'], ax=ax[3], color='C3')\n",
    "fig.savefig(fp)"
   ]
  },
  {
   "cell_type": "code",
   "execution_count": null,
   "id": "d171a589-df4e-4fb9-acb7-e64f62e3de7e",
   "metadata": {},
   "outputs": [],
   "source": [
    "# examine yields in token0 or token1 terms ...\n",
    "df['lp_value0_total'] = (2 * df['lp_total_liquidity'] * (1 << 96)) // df['sqrtPriceX96']\n",
    "df['lp_value1_total'] = (2 * df['lp_total_liquidity'] * df['sqrtPriceX96']) // (1 << 96)"
   ]
  },
  {
   "cell_type": "code",
   "execution_count": null,
   "id": "76c86e44-78dc-4f0f-9563-8a31f300f81b",
   "metadata": {},
   "outputs": [],
   "source": [
    "df['yield_value0_total'] = df['lp_value0_total'] / df['lp_value0_total'].iloc[0] - 1\n",
    "df['yield_value1_total'] = df['lp_value1_total'] / df['lp_value1_total'].iloc[0] - 1"
   ]
  },
  {
   "cell_type": "code",
   "execution_count": null,
   "id": "1cbc92e3-be3c-4986-afbd-1b1f74c6b0a8",
   "metadata": {},
   "outputs": [],
   "source": [
    "df.filter(['lp_value0_total', 'lp_value1_total', 'yield_value0_total', 'yield_value1_total'])"
   ]
  },
  {
   "cell_type": "code",
   "execution_count": null,
   "id": "c0b0679a-f044-4e54-b0b4-b728fb577932",
   "metadata": {},
   "outputs": [],
   "source": [
    "# yield in value terms ...\n",
    "fp = \"assets/\" + FILEPATH[len(\"results/\"):-len(\".csv\")] + \"-yields-value.png\"\n",
    "fig, ax = plt.subplots(2, 1)\n",
    "df.plot(x='number', y=['yield_value0_total'], ax=ax[0], color='C0')\n",
    "df.plot(x='number', y=['yield_value1_total'], ax=ax[1], color='C1')\n",
    "fig.savefig(fp)"
   ]
  },
  {
   "cell_type": "code",
   "execution_count": null,
   "id": "0215543b-1404-4379-8180-66139c780a7a",
   "metadata": {},
   "outputs": [],
   "source": [
    "# benchmark against passive hold ...\n",
    "df['passive_value0_total'] = df['lp_amount0'].iloc[0] + df['lp_amount1'].iloc[0] / df['price']\n",
    "df['passive_value1_total'] = df['lp_amount0'].iloc[0] * df['price'] + df['lp_amount1'].iloc[0]"
   ]
  },
  {
   "cell_type": "code",
   "execution_count": null,
   "id": "1c5f4769-cc5d-4448-9cd1-1cc33b984cfd",
   "metadata": {},
   "outputs": [],
   "source": [
    "df['yield_value0_total_lp_to_passive'] = df['lp_value0_total'] / df['passive_value0_total'] - 1\n",
    "df['yield_value1_total_lp_to_passive'] = df['lp_value1_total'] / df['passive_value1_total'] - 1\n",
    "\n",
    "df['yield_value0_total_lp_to_passive'] = df['lp_value0_total'] / df['passive_value0_total'] - 1\n",
    "df['yield_value1_total_lp_to_passive'] = df['lp_value1_total'] / df['passive_value1_total'] - 1"
   ]
  },
  {
   "cell_type": "code",
   "execution_count": null,
   "id": "808cea05-f130-4afb-b5ab-ad7f517a2dee",
   "metadata": {},
   "outputs": [],
   "source": [
    "df.filter(['passive_value0_total', 'passive_value1_total', 'yield_value0_total_lp_to_passive', 'yield_value1_total_lp_to_passive'])"
   ]
  },
  {
   "cell_type": "code",
   "execution_count": null,
   "id": "7f38ffec-25e7-4947-9b64-4fadcd8f9e23",
   "metadata": {},
   "outputs": [],
   "source": [
    "# similar yield increases to liquidity terms but with differences due to IL\n",
    "fp = \"assets/\" + FILEPATH[len(\"results/\"):-len(\".csv\")] + \"-yields-value-rel-to-passive.png\"\n",
    "fig, ax = plt.subplots(2, 1)\n",
    "df.plot(x='number', y=['yield_value0_total_lp_to_passive'], ax=ax[0], color='C0')\n",
    "df.plot(x='number', y=['yield_value1_total_lp_to_passive'], ax=ax[1], color='C1')\n",
    "fig.savefig(fp)"
   ]
  },
  {
   "cell_type": "code",
   "execution_count": null,
   "id": "a1596405-9609-4715-a3f7-e1c18b1bf7c1",
   "metadata": {},
   "outputs": [],
   "source": [
    "# yield loss to impermanent loss\n",
    "def calc_impermanent_loss(sqrt_ratio: float) -> float:\n",
    "    return (2 * sqrt_ratio) / (sqrt_ratio **2 + 1) - 1"
   ]
  },
  {
   "cell_type": "code",
   "execution_count": null,
   "id": "5a86be34-32bc-4bef-8468-1206520b7cee",
   "metadata": {},
   "outputs": [],
   "source": [
    "sqrt_ratio_end = df['sqrtPriceX96'].iloc[-1] / df['sqrtPriceX96'].iloc[0]\n",
    "calc_impermanent_loss(sqrt_ratio_end)"
   ]
  },
  {
   "cell_type": "code",
   "execution_count": null,
   "id": "715645e7-16de-4511-8e56-49d97e668cb8",
   "metadata": {},
   "outputs": [],
   "source": [
    "# plot IL (approx)\n",
    "df['yield_il'] = df['yield_value1_total_lp_to_passive'] - df['yield_liquidity_total']"
   ]
  },
  {
   "cell_type": "code",
   "execution_count": null,
   "id": "3a3649ac-4acc-453a-bfb3-8efb70c97b82",
   "metadata": {},
   "outputs": [],
   "source": [
    "fp = \"assets/\" + FILEPATH[len(\"results/\"):-len(\".csv\")] + \"-yields-il.png\"\n",
    "ax = df.plot(x='number', y=['yield_il'], color='C3')\n",
    "ax.get_figure().savefig(fp)"
   ]
  },
  {
   "cell_type": "code",
   "execution_count": null,
   "id": "bc15b1ef-d368-440a-a6d4-f47aea5081e0",
   "metadata": {},
   "outputs": [],
   "source": [
    "# check out total volumes on both sides (count based at settlement/liquidation given columns)\n",
    "df['rel_volumes_closed_cumulative_zero_for_one'] = df['rel_sizes_liquidated_cumulative_zero_for_one'] + df['rel_sizes_settled_cumulative_zero_for_one']\n",
    "df['rel_volumes_closed_cumulative_one_for_zero'] = df['rel_sizes_liquidated_cumulative_one_for_zero'] + df['rel_sizes_settled_cumulative_one_for_zero']"
   ]
  },
  {
   "cell_type": "code",
   "execution_count": null,
   "id": "76e11614-6556-47f9-afb9-72c1bf7522a7",
   "metadata": {},
   "outputs": [],
   "source": [
    "df.filter(['rel_volumes_closed_cumulative_zero_for_one', 'rel_volumes_closed_cumulative_one_for_zero'])"
   ]
  },
  {
   "cell_type": "code",
   "execution_count": null,
   "id": "7ade4d7b-a47a-4b0d-b60a-7465e96695b1",
   "metadata": {},
   "outputs": [],
   "source": [
    "# cumulative volumes relative to initial TVL\n",
    "fp = \"assets/\" + FILEPATH[len(\"results/\"):-len(\".csv\")] + \"-rel_volumes_cumulative.png\"\n",
    "fig, ax = plt.subplots(2, 1)\n",
    "df.plot(x='number', y=['rel_volumes_closed_cumulative_zero_for_one'], ax=ax[0], color='C0')\n",
    "df.plot(x='number', y=['rel_volumes_closed_cumulative_one_for_zero'], ax=ax[1], color='C1')\n",
    "fig.savefig(fp)"
   ]
  },
  {
   "cell_type": "code",
   "execution_count": null,
   "id": "6901e28a-284c-4931-bbe8-7aa62cc58bc3",
   "metadata": {},
   "outputs": [],
   "source": [
    "# zoom in over last blocks held period for sim to show turn over\n",
    "fp = \"assets/\" + FILEPATH[len(\"results/\"):-len(\".csv\")] + \"-rel_volumes_cumulative_T-blocks_held.png\"\n",
    "fig, ax = plt.subplots(2, 1)\n",
    "df[df['timestamp'] > df['timestamp'].iloc[-1] - 12 * blocks_held].plot(x='number', y=['rel_volumes_closed_cumulative_zero_for_one'], ax=ax[0], color='C0')\n",
    "df[df['timestamp'] > df['timestamp'].iloc[-1] - 12 * blocks_held].plot(x='number', y=['rel_volumes_closed_cumulative_one_for_zero'], ax=ax[1], color='C1')\n",
    "fig.savefig(fp)"
   ]
  },
  {
   "cell_type": "code",
   "execution_count": null,
   "id": "f7224f82-7c63-43ba-9eea-b5fbee0f31c5",
   "metadata": {},
   "outputs": [],
   "source": [
    "# calculate slippage amounts paid by traders on opened positions\n",
    "df"
   ]
  },
  {
   "cell_type": "code",
   "execution_count": null,
   "id": "203909a7-dad6-41ba-95f7-48b392e28771",
   "metadata": {},
   "outputs": [],
   "source": [
    "df['sizes_zero_for_one'] = df['_sizes_outstanding0'].apply(lambda v: int(v))\n",
    "df['sizes_one_for_zero'] = df['_sizes_outstanding1'].apply(lambda v: int(v))\n",
    "df['margins_zero_for_one'] = df['_margins_outstanding0'].apply(lambda v: int(v))\n",
    "df['margins_one_for_zero'] = df['_margins_outstanding1'].apply(lambda v: int(v))"
   ]
  },
  {
   "cell_type": "code",
   "execution_count": null,
   "id": "3b54d40e-6543-46e1-bafb-3d19aa10435b",
   "metadata": {},
   "outputs": [],
   "source": [
    "df.filter(['sizes_zero_for_one', 'debts_zero_for_one', 'margins_zero_for_one', 'sizes_one_for_zero', 'debts_one_for_zero', 'margins_one_for_zero', 'price'])"
   ]
  },
  {
   "cell_type": "code",
   "execution_count": null,
   "id": "a9fe82dd-8444-4cb2-8b7f-1ca6e8bed013",
   "metadata": {},
   "outputs": [],
   "source": [
    "# pnl on open position is (size / (debt * price) - 1) for zeroForOne = true and (size * price / debt - 1) for zeroForOne = false\n",
    "def pnl(x) -> (float, float):\n",
    "    if x.margins_zero_for_one == 0 or x.margins_one_for_zero == 0:\n",
    "            return (0, 0)\n",
    "    p01 = (x.margins_zero_for_one + (x.sizes_zero_for_one - x.debts_zero_for_one * x.price)) / x.margins_zero_for_one - 1\n",
    "    p10 = (x.margins_one_for_zero + (x.sizes_one_for_zero - x.debts_one_for_zero / x.price)) / x.margins_one_for_zero - 1\n",
    "    return (p01, p10)"
   ]
  },
  {
   "cell_type": "code",
   "execution_count": null,
   "id": "8e99aab6-3587-437b-9818-c0b1df05010c",
   "metadata": {},
   "outputs": [],
   "source": [
    "# pnl based on univ3 price on open position is (size / (debt * price) - 1) for zeroForOne = true and (size * price / debt - 1) for zeroForOne = false\n",
    "# arb at start of update_strategy should bring mrgl pool to this price before liquidations/settlement\n",
    "def pnl_univ3(x) -> (float, float):\n",
    "    if x.margins_zero_for_one == 0 or x.margins_one_for_zero == 0:\n",
    "            return (0, 0)\n",
    "    p01 = (x.margins_zero_for_one + (x.sizes_zero_for_one - x.debts_zero_for_one * x.univ3_price)) / x.margins_zero_for_one - 1\n",
    "    p10 = (x.margins_one_for_zero + (x.sizes_one_for_zero - x.debts_one_for_zero / x.univ3_price)) / x.margins_one_for_zero - 1\n",
    "    return (p01, p10)"
   ]
  },
  {
   "cell_type": "code",
   "execution_count": null,
   "id": "876a581f-70a5-4334-b924-e1f7831e6ac9",
   "metadata": {},
   "outputs": [],
   "source": [
    "def effective_leverage(x) -> (float, float):\n",
    "    if x.margins_zero_for_one == 0 or x.margins_one_for_zero == 0:\n",
    "            return (0, 0)\n",
    "    l01 = (x.margins_zero_for_one + x.debts_zero_for_one * x.price) / x.margins_zero_for_one\n",
    "    l10 = (x.margins_one_for_zero + x.debts_one_for_zero / x.price) / x.margins_one_for_zero\n",
    "    return (l01, l10)"
   ]
  },
  {
   "cell_type": "code",
   "execution_count": null,
   "id": "9d805a97-b6fa-4dd6-9910-cf1e6387ff70",
   "metadata": {},
   "outputs": [],
   "source": [
    "leverage"
   ]
  },
  {
   "cell_type": "code",
   "execution_count": null,
   "id": "b6e91c54-5c27-4d58-ab7f-528981ca310d",
   "metadata": {},
   "outputs": [],
   "source": [
    "# check should be = leverage - 1 if leverage was user input\n",
    "df[1:]['sizes_zero_for_one'] / df[1:]['margins_zero_for_one']"
   ]
  },
  {
   "cell_type": "code",
   "execution_count": null,
   "id": "052c3001-6b5c-4494-a927-ee1c0759ac49",
   "metadata": {},
   "outputs": [],
   "source": [
    "df[1:]['sizes_one_for_zero'] / df[1:]['margins_one_for_zero']"
   ]
  },
  {
   "cell_type": "code",
   "execution_count": null,
   "id": "86dbbe6e-bfff-4e13-80aa-8ddf3cef2720",
   "metadata": {},
   "outputs": [],
   "source": [
    "df['pnl_zero_for_one'] = df.apply(lambda x: pnl(x)[0], axis=1)\n",
    "df['pnl_one_for_zero'] = df.apply(lambda x: pnl(x)[1], axis=1)\n",
    "\n",
    "df['pnl_univ3_zero_for_one'] = df.apply(lambda x: pnl_univ3(x)[0], axis=1)\n",
    "df['pnl_univ3_one_for_zero'] = df.apply(lambda x: pnl_univ3(x)[1], axis=1)\n",
    "\n",
    "df['effective_leverage_zero_for_one'] = df.apply(lambda x: effective_leverage(x)[0], axis=1)\n",
    "df['effective_leverage_one_for_zero'] = df.apply(lambda x: effective_leverage(x)[1], axis=1)"
   ]
  },
  {
   "cell_type": "code",
   "execution_count": null,
   "id": "65a28062-3372-4859-a11a-290085c36e43",
   "metadata": {},
   "outputs": [],
   "source": [
    "df.filter(['pnl_zero_for_one', 'pnl_one_for_zero', 'pnl_univ3_zero_for_one', 'pnl_univ3_one_for_zero', 'effective_leverage_zero_for_one', 'effective_leverage_one_for_zero'])"
   ]
  },
  {
   "cell_type": "code",
   "execution_count": null,
   "id": "28cb53c8-1aad-4495-b373-04927ffe5457",
   "metadata": {},
   "outputs": [],
   "source": [
    "# pnl paid out to positions relative to initial margin\n",
    "# compared with net liquidity gains from settlement show safety for pool LPs due to physical settlement\n",
    "fp = \"assets/\" + FILEPATH[len(\"results/\"):-len(\".csv\")] + \"-position_pnl.png\"\n",
    "fig, ax = plt.subplots(2, 1)\n",
    "df[1:].plot(x='number', y=['pnl_zero_for_one'], ax=ax[0], color='C0')\n",
    "df[1:].plot(x='number', y=['pnl_one_for_zero'], ax=ax[1], color='C1')\n",
    "fig.savefig(fp)"
   ]
  },
  {
   "cell_type": "code",
   "execution_count": null,
   "id": "440da901-52d3-402e-a066-45562d4cf68b",
   "metadata": {},
   "outputs": [],
   "source": [
    "# pnl paid out to positions relative to initial margin based on univ3 price (arb'd to at start of update strategy)\n",
    "# compared with net liquidity gains from settlement show safety for pool LPs due to physical settlement\n",
    "fp = \"assets/\" + FILEPATH[len(\"results/\"):-len(\".csv\")] + \"-position_pnl_univ3.png\"\n",
    "fig, ax = plt.subplots(2, 1)\n",
    "df[1:].plot(x='number', y=['pnl_univ3_zero_for_one'], ax=ax[0], color='C0')\n",
    "df[1:].plot(x='number', y=['pnl_univ3_one_for_zero'], ax=ax[1], color='C1')\n",
    "fig.savefig(fp)"
   ]
  },
  {
   "cell_type": "code",
   "execution_count": null,
   "id": "b622ce52-71b3-43c0-8cf4-534525a7ff81",
   "metadata": {},
   "outputs": [],
   "source": [
    "# effective leverage on positions relative to initial margin accounting for slippage increases to debt\n",
    "fp = \"assets/\" + FILEPATH[len(\"results/\"):-len(\".csv\")] + \"-position_effective_leverage.png\"\n",
    "fig, ax = plt.subplots(2, 1)\n",
    "df[1:].plot(x='number', y=['effective_leverage_zero_for_one'], ax=ax[0], color='C0')\n",
    "df[1:].plot(x='number', y=['effective_leverage_one_for_zero'], ax=ax[1], color='C1')\n",
    "fig.savefig(fp)"
   ]
  },
  {
   "cell_type": "code",
   "execution_count": null,
   "id": "6f3563bd-1f2c-4a82-8323-c2cb8bf062c1",
   "metadata": {},
   "outputs": [],
   "source": [
    "# return to last 5 day window with dots again to check pnl ...\n",
    "# liquidation happens when prices at highest tick, and closest for uni/weth pools: all prices around 0.004 ETH / UNI\n",
    "\n",
    "# @dev note that `runner::update_strategy` called after query on `backtester::values()`: @smolquants/backtest-ape/backtest_ape/base.py#L309\n",
    "#      in same number iteration. so arbs and liquidations recorded at same `tick` as `values()` query, but using closest to univ3 price\n",
    "#      as the mrgl v1 pool gets arb'd to univ3 ref state at beginning of update strategy call, but values won't change until next iteration.\n",
    "df[df['timestamp'] > df['timestamp'].iloc[-1] - 5 * 86400].filter(['price', 'oracle_price', 'univ3_price', 'yield_liquidity_liquidated', 'pnl_zero_for_one', 'pnl_univ3_zero_for_one', 'pnl_one_for_zero', 'pnl_univ3_one_for_zero'])"
   ]
  },
  {
   "cell_type": "code",
   "execution_count": null,
   "id": "a539b991-1ea6-4a4c-9313-184c5ae6061b",
   "metadata": {},
   "outputs": [],
   "source": [
    "# notice, for UNI/WETH sim, liquidation would have happened *below* the bankruptcy price as \n",
    "# pnl_univ3_zero_for_one == -1.104460 at this point, but won't happen until next block as oracle_price is still\n",
    "# lagging (can't arb this). encouragingly, the mrgl pool still *gains* liquidity due to the insurance mechanism even\n",
    "# tho the instantaneous price at which the outstanding position was liquidated on the pool was *below* the position\n",
    "# bankruptcy price."
   ]
  },
  {
   "cell_type": "code",
   "execution_count": null,
   "id": "3647b5b6-cfcc-4458-97cf-42c90b69e91d",
   "metadata": {},
   "outputs": [],
   "source": [
    "df[df['timestamp'] > df['timestamp'].iloc[-1] - 5 * 86400]['yield_liquidity_liquidated'].diff()"
   ]
  },
  {
   "cell_type": "code",
   "execution_count": null,
   "id": "980b6c18-0166-425c-b1ed-194299683ee2",
   "metadata": {},
   "outputs": [],
   "source": []
  }
 ],
 "metadata": {
  "kernelspec": {
   "display_name": "Python 3 (ipykernel)",
   "language": "python",
   "name": "python3"
  },
  "language_info": {
   "codemirror_mode": {
    "name": "ipython",
    "version": 3
   },
   "file_extension": ".py",
   "mimetype": "text/x-python",
   "name": "python",
   "nbconvert_exporter": "python",
   "pygments_lexer": "ipython3",
   "version": "3.9.6"
  }
 },
 "nbformat": 4,
 "nbformat_minor": 5
}
