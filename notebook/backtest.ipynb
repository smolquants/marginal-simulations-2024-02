{
 "cells": [
  {
   "cell_type": "code",
   "execution_count": 2,
   "id": "cb1660e6-c070-45f4-b822-6a4d17f0be6c",
   "metadata": {},
   "outputs": [],
   "source": [
    "import re\n",
    "import numpy as np\n",
    "import pandas as pd\n",
    "import matplotlib.pyplot as plt\n",
    "\n",
    "from ape import accounts, chain, Contract, networks, project"
   ]
  },
  {
   "cell_type": "code",
   "execution_count": null,
   "id": "b4ea3767-f82d-4f31-905b-3e198ac7b445",
   "metadata": {},
   "outputs": [],
   "source": [
    "# SEE: https://gist.github.com/banteg/dcf6082ff7fc6ad51ce220146f29d9ff\n",
    "networks.parse_network_choice('ethereum:mainnet:alchemy').__enter__()"
   ]
  },
  {
   "cell_type": "code",
   "execution_count": null,
   "id": "82dee801-f4cd-46f4-b809-1ace1a1bdce6",
   "metadata": {},
   "outputs": [],
   "source": [
    "# mrgl v1 constants\n",
    "MAINTENANCE_UNIT = int(1e6)\n",
    "SECONDS_AGO = 43200  # 12 hr TWAP"
   ]
  },
  {
   "cell_type": "code",
   "execution_count": null,
   "id": "a346c2bb-500e-4e01-98e5-309b9c9b2bac",
   "metadata": {},
   "outputs": [],
   "source": [
    "# UNI/WETH from Feb 27, 2023 to  26, 2024\n",
    "FILEPATH = \"results/MarginalV1LPRunner_0x1d42064Fc4Beb5F8aAF85F4617AE8b3b5B8Bd801_250000_0.25_0.25_3.5_0_50400_0.005_17998181_19311400_2400.csv\""
   ]
  },
  {
   "cell_type": "code",
   "execution_count": null,
   "id": "7cffccb2-c270-4968-9db5-e9937dd8e3ea",
   "metadata": {},
   "outputs": [],
   "source": [
    "[\n",
    "    _,\n",
    "    pool_addr,\n",
    "    maintenance,\n",
    "    utilization,\n",
    "    skew,\n",
    "    leverage,\n",
    "    rel_margin_above_safe_min,\n",
    "    blocks_held,\n",
    "    sqrt_price_tol,\n",
    "    start,\n",
    "    stop,\n",
    "    step\n",
    "] = re.split(\"_\", FILEPATH[len(\"results/\"):-len(\".csv\")])"
   ]
  },
  {
   "cell_type": "code",
   "execution_count": null,
   "id": "b339f265-41b8-408e-be86-cdf09edf52c8",
   "metadata": {},
   "outputs": [],
   "source": [
    "maintenance = int(maintenance)\n",
    "utilization = float(utilization)\n",
    "skew = float(skew)\n",
    "leverage = float(leverage)\n",
    "rel_margin_above_safe_min = float(rel_margin_above_safe_min)\n",
    "blocks_held = int(blocks_held)\n",
    "sqrt_price_tol = float(sqrt_price_tol)\n",
    "start = int(start)\n",
    "stop = int(stop)\n",
    "step = int(step)"
   ]
  },
  {
   "cell_type": "code",
   "execution_count": null,
   "id": "49653182-9998-4f63-b70c-d087206b0dff",
   "metadata": {},
   "outputs": [],
   "source": [
    "leverage"
   ]
  },
  {
   "cell_type": "code",
   "execution_count": null,
   "id": "5538bd51-4ab5-4b7a-b967-161cae615230",
   "metadata": {},
   "outputs": [],
   "source": [
    "# values array from backtester for marginal LP pool\n",
    "# values = [liquidity, sqrtPriceX96, liquidityLocked, lpTotalLiquidity, lpAmount0, lpAmount1]\n",
    "df = pd.read_csv(FILEPATH)\n",
    "df"
   ]
  },
  {
   "cell_type": "code",
   "execution_count": null,
   "id": "6c0d1121-08f9-449f-8eb0-598f91ed803d",
   "metadata": {},
   "outputs": [],
   "source": [
    "df.columns"
   ]
  },
  {
   "cell_type": "code",
   "execution_count": null,
   "id": "acbd2e86-08eb-4b64-839b-95aa80fd0724",
   "metadata": {},
   "outputs": [],
   "source": [
    "# plot mrgl pool tick vs oracle time weighted average tick over time\n",
    "def calc_tick_from_sqrt_price_x96(sqrt_price_x96: int) -> int:\n",
    "    price = (int(sqrt_price_x96) ** 2) / (1 << 192)\n",
    "    return int(np.log(price) / np.log(1.0001))"
   ]
  },
  {
   "cell_type": "code",
   "execution_count": null,
   "id": "908717eb-4e38-4f78-baf1-efbaa50e063f",
   "metadata": {},
   "outputs": [],
   "source": [
    "df['tick'] = df['values1'].apply(calc_tick_from_sqrt_price_x96)\n",
    "df['tick']"
   ]
  },
  {
   "cell_type": "code",
   "execution_count": null,
   "id": "94c99c70-d388-45e6-a86f-a52f649b17a9",
   "metadata": {},
   "outputs": [],
   "source": [
    "def calc_time_weighted_average_tick(tick_cumulatives_diff: int) -> int:\n",
    "    return int(tick_cumulatives_diff) // int(SECONDS_AGO)"
   ]
  },
  {
   "cell_type": "code",
   "execution_count": null,
   "id": "41cc5abd-1944-4f92-9454-10c0b1815c92",
   "metadata": {},
   "outputs": [],
   "source": [
    "# observation0 at timestamp - seconds_ago; observation1 at timestamp\n",
    "df['oracle_tick'] = (df['univ3_observation1_tick_cumulatives'] - df['univ3_observation0_tick_cumulatives']).apply(calc_time_weighted_average_tick)\n",
    "df['oracle_tick']"
   ]
  },
  {
   "cell_type": "code",
   "execution_count": null,
   "id": "58340372-e4db-47b3-96d6-6d66752978b4",
   "metadata": {},
   "outputs": [],
   "source": [
    "df.plot(x='number', y=['tick', 'oracle_tick'])"
   ]
  },
  {
   "cell_type": "code",
   "execution_count": null,
   "id": "6b6534d0-3312-45a1-85bc-d84067cca1bf",
   "metadata": {},
   "outputs": [],
   "source": [
    "# zoom in to a 5 day window at end to see oracle tick timelag\n",
    "# 12 hr TWAP lags so insurance mechanism for LPs must be robust to guarantee no bad debt\n",
    "df[df['timestamp'] > df['timestamp'].iloc[-1] - 5 * 86400].plot(x='number', y=['tick', 'oracle_tick'])"
   ]
  },
  {
   "cell_type": "code",
   "execution_count": null,
   "id": "ee8d8097-2575-4c20-9af1-d9eb39bc299b",
   "metadata": {},
   "outputs": [],
   "source": [
    "# plot mrgl pool price vs oracle time weighted average price over time\n",
    "def calc_price_from_tick(tick: int) -> float:\n",
    "    return 1.0001 ** tick"
   ]
  },
  {
   "cell_type": "code",
   "execution_count": null,
   "id": "e867f8ad-791e-4c2e-bed9-62e8865e4dbd",
   "metadata": {},
   "outputs": [],
   "source": [
    "df['price'] = df['tick'].apply(calc_price_from_tick)\n",
    "df['price']"
   ]
  },
  {
   "cell_type": "code",
   "execution_count": null,
   "id": "5c3dc382-c84f-4fc5-99bc-fe076ce43fe3",
   "metadata": {},
   "outputs": [],
   "source": [
    "df['oracle_price'] = df['oracle_tick'].apply(calc_price_from_tick)\n",
    "df['oracle_price']"
   ]
  },
  {
   "cell_type": "code",
   "execution_count": null,
   "id": "e66cb3f6-65f4-4ece-a03e-34adec6db09e",
   "metadata": {},
   "outputs": [],
   "source": [
    "fp = \"assets/\" + FILEPATH[len(\"results/\"):-len(\".csv\")] + \"-prices.png\"\n",
    "ax = df.plot(x='number', y=['price', 'oracle_price'])\n",
    "ax.get_figure().savefig(fp)"
   ]
  },
  {
   "cell_type": "code",
   "execution_count": null,
   "id": "4ac1ef6d-fd5d-4228-9c82-5f88a5c06eb2",
   "metadata": {},
   "outputs": [],
   "source": [
    "df[df['timestamp'] > df['timestamp'].iloc[-1] - 5 * 86400].plot(x='number', y=['price', 'oracle_price'])"
   ]
  },
  {
   "cell_type": "code",
   "execution_count": null,
   "id": "1f03cfbd-2872-45f0-be02-4342ba69aac5",
   "metadata": {},
   "outputs": [],
   "source": [
    "# plot liquidity gained over time. convert to datatype first\n",
    "df['lp_total_liquidity'] = df['values3'].apply(lambda v: int(v))\n",
    "df['lp_amount0'] = df['values4'].apply(lambda v: int(v))\n",
    "df['lp_amount1'] = df['values5'].apply(lambda v: int(v))"
   ]
  },
  {
   "cell_type": "code",
   "execution_count": null,
   "id": "0ff103cb-6eb6-4721-9507-22a832f4eb46",
   "metadata": {},
   "outputs": [],
   "source": [
    "df"
   ]
  },
  {
   "cell_type": "code",
   "execution_count": null,
   "id": "24afbec6-bfce-498b-a250-ac02827c2a84",
   "metadata": {},
   "outputs": [],
   "source": [
    "df['net_liquidity_settled_cumulative_zero_for_one'] = df['_net_liquidity_settled_cumulative0'].apply(lambda v: int(v))\n",
    "df['net_liquidity_settled_cumulative_one_for_zero'] = df['_net_liquidity_settled_cumulative1'].apply(lambda v: int(v))\n",
    "df['net_liquidity_settled_cumulative'] = df['net_liquidity_settled_cumulative_zero_for_one'] + df['net_liquidity_settled_cumulative_one_for_zero']\n",
    "\n",
    "df['net_liquidity_liquidated_cumulative_zero_for_one'] = df['_net_liquidity_liquidated_cumulative0'].apply(lambda v: int(v))\n",
    "df['net_liquidity_liquidated_cumulative_one_for_zero'] = df['_net_liquidity_liquidated_cumulative1'].apply(lambda v: int(v))\n",
    "df['net_liquidity_liquidated_cumulative'] = df['net_liquidity_liquidated_cumulative_zero_for_one'] + df['net_liquidity_liquidated_cumulative_one_for_zero']\n",
    "\n",
    "df['net_liquidity_swap_fees_cumulative'] = df['_net_liquidity_swap_fees_cumulative'].apply(lambda v: int(v))\n",
    "df['net_liquidity_position_fees_cumulative'] = df['_net_liquidity_position_fees_cumulative'].apply(lambda v: int(v))\n",
    "df['net_liquidity_fees_cumulative'] = df['net_liquidity_swap_fees_cumulative'] + df['net_liquidity_position_fees_cumulative']"
   ]
  },
  {
   "cell_type": "code",
   "execution_count": null,
   "id": "bab28817-ceea-4780-9ddd-55370f233e27",
   "metadata": {},
   "outputs": [],
   "source": [
    "df['net_liquidity_total_cumulative'] = df['lp_total_liquidity'] - df['lp_total_liquidity'].iloc[0]"
   ]
  },
  {
   "cell_type": "code",
   "execution_count": null,
   "id": "c27db395-de5a-424c-95dd-fa9430fae8eb",
   "metadata": {},
   "outputs": [],
   "source": [
    "df"
   ]
  },
  {
   "cell_type": "code",
   "execution_count": null,
   "id": "792d4b74-6fe1-42aa-87d9-73c6ff4d7ea6",
   "metadata": {},
   "outputs": [],
   "source": [
    "# put in yield terms relative to initial liquidity\n",
    "df['lp_total_liquidity'].iloc[0]"
   ]
  },
  {
   "cell_type": "code",
   "execution_count": null,
   "id": "6c10b82c-4c73-4456-b09f-a457919f5638",
   "metadata": {},
   "outputs": [],
   "source": [
    "df['yield_liquidity_total'] = (df['lp_total_liquidity'] / df['lp_total_liquidity'].iloc[0] - 1)\n",
    "df['yield_liquidity_fees'] = (df['net_liquidity_fees_cumulative'] / df['lp_total_liquidity'].iloc[0])\n",
    "df['yield_liquidity_settled'] = (df['net_liquidity_settled_cumulative'] / df['lp_total_liquidity'].iloc[0])\n",
    "df['yield_liquidity_liquidated'] = (df['net_liquidity_liquidated_cumulative'] / df['lp_total_liquidity'].iloc[0])"
   ]
  },
  {
   "cell_type": "code",
   "execution_count": null,
   "id": "2fd02f37-ac26-4f4a-a96f-63c967f225b4",
   "metadata": {},
   "outputs": [],
   "source": [
    "df"
   ]
  },
  {
   "cell_type": "code",
   "execution_count": null,
   "id": "1416fd4b-8719-4cda-9169-3a34c7d314e0",
   "metadata": {},
   "outputs": [],
   "source": [
    "fp = \"assets/\" + FILEPATH[len(\"results/\"):-len(\".csv\")] + \"-yields.png\"\n",
    "ax = df.plot(x='number', y=['yield_liquidity_total', 'yield_liquidity_fees', 'yield_liquidity_settled', 'yield_liquidity_liquidated'])\n",
    "ax.get_figure().savefig(fp)"
   ]
  },
  {
   "cell_type": "code",
   "execution_count": null,
   "id": "086ffa26-41b1-43a7-a5b1-f7d4138ad959",
   "metadata": {},
   "outputs": [],
   "source": [
    "# look at net liquidity liquidated over time and check no shortfalls due to liquidations (i.e. no bad debt)\n",
    "fp = \"assets/\" + FILEPATH[len(\"results/\"):-len(\".csv\")] + \"-yields-liquidated.png\"\n",
    "ax = df.plot(x='number', y=['yield_liquidity_liquidated'], color=['r'])\n",
    "ax.get_figure().savefig(fp)"
   ]
  },
  {
   "cell_type": "code",
   "execution_count": null,
   "id": "59075e85-efbf-416c-82b1-bc40da88fe94",
   "metadata": {},
   "outputs": [],
   "source": [
    "# focus on last 5 day window ...\n",
    "fp = \"assets/\" + FILEPATH[len(\"results/\"):-len(\".csv\")] + \"-price_vs_liquidations_yield_T-5.png\"\n",
    "fig, ax = plt.subplots(2, 1)\n",
    "df[df['timestamp'] > df['timestamp'].iloc[-1] - 5 * 86400].plot(x='number', y=['price', 'oracle_price'], ax=ax[0])\n",
    "df[df['timestamp'] > df['timestamp'].iloc[-1] - 5 * 86400].plot(x='number', y=['yield_liquidity_liquidated'], color=['r'], ax=ax[1])\n",
    "fig.savefig(fp)"
   ]
  },
  {
   "cell_type": "code",
   "execution_count": null,
   "id": "0766e89f-143a-4a00-9109-9c31de2d8eeb",
   "metadata": {},
   "outputs": [],
   "source": [
    "# and for settled? dependent on funding rates. order of mag smaller than contribution from liquidations\n",
    "fp = \"assets/\" + FILEPATH[len(\"results/\"):-len(\".csv\")] + \"-yields-settled.png\"\n",
    "ax = df.plot(x='number', y=['yield_liquidity_settled'], color=['g'])\n",
    "ax.get_figure().savefig(fp)"
   ]
  },
  {
   "cell_type": "code",
   "execution_count": null,
   "id": "505fc613-d60a-4162-8ae8-3f4b28e39c5e",
   "metadata": {},
   "outputs": [],
   "source": [
    "def calc_reserves_from_liquidity_sqrt_price_x96(sqrt_price_x96: int, liquidity: int) -> (int, int):\n",
    "    amount0 = (int(liquidity) << 96) // int(sqrt_price_x96)\n",
    "    amount1 = (int(liquidity) * int(sqrt_price_x96)) // (1 << 96)\n",
    "    return (amount0, amount1)"
   ]
  },
  {
   "cell_type": "code",
   "execution_count": null,
   "id": "ee37a77b-a10e-47df-9551-15d516235a34",
   "metadata": {},
   "outputs": [],
   "source": [
    "# check actual token balances in the pool can cover pool liquidity post-settle, liquidate of outstanding positions\n",
    "df['balance0_pool'] = df['_balances_pool0'].apply(lambda v: int(v))\n",
    "df['balance1_pool'] = df['_balances_pool1'].apply(lambda v: int(v))"
   ]
  },
  {
   "cell_type": "code",
   "execution_count": null,
   "id": "04d9fc79-9d72-4128-b290-ac854bfc103a",
   "metadata": {},
   "outputs": [],
   "source": [
    "df[\"liquidity\"] = df[\"values0\"].apply(lambda v: int(v))\n",
    "df[\"sqrtPriceX96\"] = df[\"values1\"].apply(lambda v: int(v))"
   ]
  },
  {
   "cell_type": "code",
   "execution_count": null,
   "id": "4982614c-b78b-4864-8514-88b95ecdd693",
   "metadata": {},
   "outputs": [],
   "source": [
    "df['reserve0'] = df.apply(lambda x: calc_reserves_from_liquidity_sqrt_price_x96(x.sqrtPriceX96, x.liquidity)[0], axis=1)\n",
    "df['reserve1'] = df.apply(lambda x: calc_reserves_from_liquidity_sqrt_price_x96(x.sqrtPriceX96, x.liquidity)[1], axis=1)"
   ]
  },
  {
   "cell_type": "code",
   "execution_count": null,
   "id": "451984d1-5ac3-4425-b43d-d6e2e1eff7ef",
   "metadata": {},
   "outputs": [],
   "source": [
    "df['amounts0_locked_zero_for_one'] = df['_amounts0_locked0'].apply(lambda v: int(v))\n",
    "df['amounts1_locked_zero_for_one'] = df['_amounts1_locked0'].apply(lambda v: int(v))\n",
    "df['amounts0_locked_one_for_zero'] = df['_amounts0_locked1'].apply(lambda v: int(v))\n",
    "df['amounts1_locked_one_for_zero'] = df['_amounts1_locked1'].apply(lambda v: int(v))"
   ]
  },
  {
   "cell_type": "code",
   "execution_count": null,
   "id": "bf87e325-3838-4970-bdef-1a2426e13672",
   "metadata": {},
   "outputs": [],
   "source": [
    "df['collaterals_zero_for_one'] = df['_sizes_outstanding0'].apply(lambda v: int(v)) + df['_margins_outstanding0'].apply(lambda v: int(v))\n",
    "df['debts_zero_for_one'] = df['_debts_outstanding0'].apply(lambda v: int(v))\n",
    "df['collaterals_one_for_zero'] = df['_sizes_outstanding1'].apply(lambda v: int(v)) + df['_margins_outstanding1'].apply(lambda v: int(v))\n",
    "df['debts_one_for_zero'] = df['_debts_outstanding1'].apply(lambda v: int(v))"
   ]
  },
  {
   "cell_type": "code",
   "execution_count": null,
   "id": "c6f6c77b-0b8a-4dbd-be69-c89031828523",
   "metadata": {},
   "outputs": [],
   "source": [
    "df['reserve0_liquidated'] = df['reserve0'] + df['amounts0_locked_zero_for_one'] + df['amounts0_locked_one_for_zero']\n",
    "df['reserve1_liquidated'] = df['reserve1'] + df['amounts1_locked_zero_for_one'] + df['amounts1_locked_one_for_zero']"
   ]
  },
  {
   "cell_type": "code",
   "execution_count": null,
   "id": "2ff35f5d-7c09-4af4-a62c-07ff292555e2",
   "metadata": {},
   "outputs": [],
   "source": [
    "df.filter(['reserve0_liquidated', 'balance0_pool', 'reserve1_liquidated', 'balance1_pool'])"
   ]
  },
  {
   "cell_type": "code",
   "execution_count": null,
   "id": "bf277391-4bf4-4640-a8ba-109191d332ae",
   "metadata": {},
   "outputs": [],
   "source": [
    "# should be some dust left over in pool or very little negative amounts (won't be stuck due to transfer helper lib)\n",
    "df['net_balance0_pool'] = df['balance0_pool'] - df['reserve0_liquidated']\n",
    "df['net_balance1_pool'] = df['balance1_pool'] - df['reserve1_liquidated']"
   ]
  },
  {
   "cell_type": "code",
   "execution_count": null,
   "id": "35618a22-4d63-4e73-9ed7-7e8155c783b8",
   "metadata": {},
   "outputs": [],
   "source": [
    "df['rel_balance0_pool'] = df['net_balance0_pool'] / df['reserve0_liquidated']\n",
    "df['rel_balance1_pool'] = df['net_balance1_pool'] / df['reserve1_liquidated']"
   ]
  },
  {
   "cell_type": "code",
   "execution_count": null,
   "id": "9edfc6fe-c92a-4cdd-98ce-060298b737fb",
   "metadata": {},
   "outputs": [],
   "source": [
    "# dust for balance check\n",
    "df.filter(['net_balance0_pool', 'net_balance1_pool', 'rel_balance0_pool', 'rel_balance1_pool'])"
   ]
  },
  {
   "cell_type": "code",
   "execution_count": null,
   "id": "4af69c84-8cdc-4147-a64f-06bfb73f87a7",
   "metadata": {},
   "outputs": [],
   "source": [
    "print(f\"last excess reserves (relative): {(df['rel_balance0_pool'].iloc[-1], df['rel_balance1_pool'].iloc[-1])}\")"
   ]
  },
  {
   "cell_type": "code",
   "execution_count": null,
   "id": "10e7d61b-52dc-4469-a0e3-0fb6ebc4ac7c",
   "metadata": {},
   "outputs": [],
   "source": [
    "df.plot(x='number', y=['_positions_liquidated_cumulative0', '_positions_liquidated_cumulative1'])"
   ]
  },
  {
   "cell_type": "code",
   "execution_count": null,
   "id": "e122dff8-d71b-4aa7-89fe-5c7a6235720b",
   "metadata": {},
   "outputs": [],
   "source": [
    "df['sizes_outstanding_zero_for_one'] = df['_sizes_outstanding0'].apply(lambda v: int(v))\n",
    "df['sizes_outstanding_one_for_zero'] = df['_sizes_outstanding1'].apply(lambda v: int(v))"
   ]
  },
  {
   "cell_type": "code",
   "execution_count": null,
   "id": "dd79e412-eaa8-441e-a698-ce3328f6760c",
   "metadata": {},
   "outputs": [],
   "source": [
    "# relative to initial total liquidity x, y amounts\n",
    "df['rel_sizes_outstanding_zero_for_one'] = df['sizes_outstanding_zero_for_one'] / df['lp_amount1'].iloc[0]  # size in token1\n",
    "df['rel_sizes_outstanding_one_for_zero'] = df['sizes_outstanding_one_for_zero'] / df['lp_amount0'].iloc[0]  # size in token0"
   ]
  },
  {
   "cell_type": "code",
   "execution_count": null,
   "id": "63a4b63f-e4be-4c98-bdcb-2a0f192775c2",
   "metadata": {},
   "outputs": [],
   "source": [
    "fig, ax = plt.subplots(2, 1)\n",
    "df[1:].plot(x='number', y=['rel_sizes_outstanding_zero_for_one'], ax=ax[0], color=['C0'])\n",
    "df[1:].plot(x='number', y=['rel_sizes_outstanding_one_for_zero'], ax=ax[1], color=['C1'])"
   ]
  },
  {
   "cell_type": "code",
   "execution_count": null,
   "id": "43b8e171-14f9-4001-90ba-4c187afc3978",
   "metadata": {},
   "outputs": [],
   "source": [
    "df['sizes_liquidated_cumulative_zero_for_one'] = df['_sizes_liquidated_cumulative0'].apply(lambda v: int(v))\n",
    "df['sizes_liquidated_cumulative_one_for_zero'] = df['_sizes_liquidated_cumulative1'].apply(lambda v: int(v))\n",
    "df['sizes_settled_cumulative_zero_for_one'] = df['_sizes_settled_cumulative0'].apply(lambda v: int(v))\n",
    "df['sizes_settled_cumulative_one_for_zero'] = df['_sizes_settled_cumulative1'].apply(lambda v: int(v))"
   ]
  },
  {
   "cell_type": "code",
   "execution_count": null,
   "id": "8f617ba7-0431-4dec-8902-f999bfb89929",
   "metadata": {},
   "outputs": [],
   "source": [
    "# relative to initial total liquidity x, y amounts\n",
    "df['rel_sizes_liquidated_cumulative_zero_for_one'] = df['sizes_liquidated_cumulative_zero_for_one'] / df['lp_amount1'].iloc[0]  # size in token1\n",
    "df['rel_sizes_liquidated_cumulative_one_for_zero'] = df['sizes_liquidated_cumulative_one_for_zero'] / df['lp_amount0'].iloc[0]  # size in token0\n",
    "df['rel_sizes_settled_cumulative_zero_for_one'] = df['sizes_settled_cumulative_zero_for_one'] / df['lp_amount1'].iloc[0]  # size in token1\n",
    "df['rel_sizes_settled_cumulative_one_for_zero'] = df['sizes_settled_cumulative_one_for_zero'] / df['lp_amount0'].iloc[0]  # size in token0"
   ]
  },
  {
   "cell_type": "code",
   "execution_count": null,
   "id": "379b2014-482d-4965-8b13-f8e5395c12c5",
   "metadata": {},
   "outputs": [],
   "source": [
    "fp = \"assets/\" + FILEPATH[len(\"results/\"):-len(\".csv\")] + \"-rel-sizes-liquidated-settled.png\"\n",
    "fig, ax = plt.subplots(4, 1)\n",
    "df.plot(x='number', y=['rel_sizes_liquidated_cumulative_zero_for_one'], ax=ax[0], color='C0')\n",
    "df.plot(x='number', y=['rel_sizes_liquidated_cumulative_one_for_zero'], ax=ax[1], color='C1')\n",
    "df.plot(x='number', y=['rel_sizes_settled_cumulative_zero_for_one'], ax=ax[2], color='C2')\n",
    "df.plot(x='number', y=['rel_sizes_settled_cumulative_one_for_zero'], ax=ax[3], color='C3')\n",
    "fig.savefig(fp)"
   ]
  },
  {
   "cell_type": "code",
   "execution_count": null,
   "id": "d171a589-df4e-4fb9-acb7-e64f62e3de7e",
   "metadata": {},
   "outputs": [],
   "source": [
    "# examine yields in token0 or token1 terms ...\n",
    "df['lp_value0_total'] = (2 * df['lp_total_liquidity'] * (1 << 96)) // df['sqrtPriceX96']\n",
    "df['lp_value1_total'] = (2 * df['lp_total_liquidity'] * df['sqrtPriceX96']) // (1 << 96)"
   ]
  },
  {
   "cell_type": "code",
   "execution_count": null,
   "id": "76c86e44-78dc-4f0f-9563-8a31f300f81b",
   "metadata": {},
   "outputs": [],
   "source": [
    "df['yield_value0_total'] = df['lp_value0_total'] / df['lp_value0_total'].iloc[0] - 1\n",
    "df['yield_value1_total'] = df['lp_value1_total'] / df['lp_value1_total'].iloc[0] - 1"
   ]
  },
  {
   "cell_type": "code",
   "execution_count": null,
   "id": "1cbc92e3-be3c-4986-afbd-1b1f74c6b0a8",
   "metadata": {},
   "outputs": [],
   "source": [
    "df.filter(['lp_value0_total', 'lp_value1_total', 'yield_value0_total', 'yield_value1_total'])"
   ]
  },
  {
   "cell_type": "code",
   "execution_count": null,
   "id": "c0b0679a-f044-4e54-b0b4-b728fb577932",
   "metadata": {},
   "outputs": [],
   "source": [
    "# yield in value terms ...\n",
    "fp = \"assets/\" + FILEPATH[len(\"results/\"):-len(\".csv\")] + \"-yields-value.png\"\n",
    "fig, ax = plt.subplots(2, 1)\n",
    "df.plot(x='number', y=['yield_value0_total'], ax=ax[0], color='C0')\n",
    "df.plot(x='number', y=['yield_value1_total'], ax=ax[1], color='C1')\n",
    "fig.savefig(fp)"
   ]
  },
  {
   "cell_type": "code",
   "execution_count": null,
   "id": "0215543b-1404-4379-8180-66139c780a7a",
   "metadata": {},
   "outputs": [],
   "source": [
    "# benchmark against passive hold ...\n",
    "df['passive_value0_total'] = df['lp_amount0'].iloc[0] + df['lp_amount1'].iloc[0] / df['price']\n",
    "df['passive_value1_total'] = df['lp_amount0'].iloc[0] * df['price'] + df['lp_amount1'].iloc[0]"
   ]
  },
  {
   "cell_type": "code",
   "execution_count": null,
   "id": "1c5f4769-cc5d-4448-9cd1-1cc33b984cfd",
   "metadata": {},
   "outputs": [],
   "source": [
    "df['yield_value0_total_lp_to_passive'] = df['lp_value0_total'] / df['passive_value0_total'] - 1\n",
    "df['yield_value1_total_lp_to_passive'] = df['lp_value1_total'] / df['passive_value1_total'] - 1\n",
    "\n",
    "df['yield_value0_total_lp_to_passive'] = df['lp_value0_total'] / df['passive_value0_total'] - 1\n",
    "df['yield_value1_total_lp_to_passive'] = df['lp_value1_total'] / df['passive_value1_total'] - 1"
   ]
  },
  {
   "cell_type": "code",
   "execution_count": null,
   "id": "808cea05-f130-4afb-b5ab-ad7f517a2dee",
   "metadata": {},
   "outputs": [],
   "source": [
    "df.filter(['passive_value0_total', 'passive_value1_total', 'yield_value0_total_lp_to_passive', 'yield_value1_total_lp_to_passive'])"
   ]
  },
  {
   "cell_type": "code",
   "execution_count": null,
   "id": "7f38ffec-25e7-4947-9b64-4fadcd8f9e23",
   "metadata": {},
   "outputs": [],
   "source": [
    "# similar yield increases to liquidity terms but with differences due to IL\n",
    "fp = \"assets/\" + FILEPATH[len(\"results/\"):-len(\".csv\")] + \"-yields-value-rel-to-passive.png\"\n",
    "fig, ax = plt.subplots(2, 1)\n",
    "df.plot(x='number', y=['yield_value0_total_lp_to_passive'], ax=ax[0], color='C0')\n",
    "df.plot(x='number', y=['yield_value1_total_lp_to_passive'], ax=ax[1], color='C1')\n",
    "fig.savefig(fp)"
   ]
  },
  {
   "cell_type": "code",
   "execution_count": null,
   "id": "a1596405-9609-4715-a3f7-e1c18b1bf7c1",
   "metadata": {},
   "outputs": [],
   "source": [
    "# yield loss to impermanent loss\n",
    "def calc_impermanent_loss(sqrt_ratio: float) -> float:\n",
    "    return (2 * sqrt_ratio) / (sqrt_ratio **2 + 1) - 1"
   ]
  },
  {
   "cell_type": "code",
   "execution_count": null,
   "id": "5a86be34-32bc-4bef-8468-1206520b7cee",
   "metadata": {},
   "outputs": [],
   "source": [
    "sqrt_ratio_end = df['sqrtPriceX96'].iloc[-1] / df['sqrtPriceX96'].iloc[0]\n",
    "calc_impermanent_loss(sqrt_ratio_end)"
   ]
  },
  {
   "cell_type": "code",
   "execution_count": null,
   "id": "715645e7-16de-4511-8e56-49d97e668cb8",
   "metadata": {},
   "outputs": [],
   "source": [
    "# plot IL (approx)\n",
    "df['yield_il'] = df['yield_value1_total_lp_to_passive'] - df['yield_liquidity_total']"
   ]
  },
  {
   "cell_type": "code",
   "execution_count": null,
   "id": "3a3649ac-4acc-453a-bfb3-8efb70c97b82",
   "metadata": {},
   "outputs": [],
   "source": [
    "fp = \"assets/\" + FILEPATH[len(\"results/\"):-len(\".csv\")] + \"-yields-il.png\"\n",
    "ax = df.plot(x='number', y=['yield_il'], color='C3')\n",
    "ax.get_figure().savefig(fp)"
   ]
  },
  {
   "cell_type": "code",
   "execution_count": null,
   "id": "bc15b1ef-d368-440a-a6d4-f47aea5081e0",
   "metadata": {},
   "outputs": [],
   "source": [
    "# check out total volumes on both sides (count based at settlement/liquidation given columns)\n",
    "df['rel_volumes_closed_cumulative_zero_for_one'] = df['rel_sizes_liquidated_cumulative_zero_for_one'] + df['rel_sizes_settled_cumulative_zero_for_one']\n",
    "df['rel_volumes_closed_cumulative_one_for_zero'] = df['rel_sizes_liquidated_cumulative_one_for_zero'] + df['rel_sizes_settled_cumulative_one_for_zero']"
   ]
  },
  {
   "cell_type": "code",
   "execution_count": null,
   "id": "76e11614-6556-47f9-afb9-72c1bf7522a7",
   "metadata": {},
   "outputs": [],
   "source": [
    "df.filter(['rel_volumes_closed_cumulative_zero_for_one', 'rel_volumes_closed_cumulative_one_for_zero'])"
   ]
  },
  {
   "cell_type": "code",
   "execution_count": null,
   "id": "7ade4d7b-a47a-4b0d-b60a-7465e96695b1",
   "metadata": {},
   "outputs": [],
   "source": [
    "# cumulative volumes relative to initial TVL\n",
    "fp = \"assets/\" + FILEPATH[len(\"results/\"):-len(\".csv\")] + \"-rel_volumes_cumulative.png\"\n",
    "fig, ax = plt.subplots(2, 1)\n",
    "df.plot(x='number', y=['rel_volumes_closed_cumulative_zero_for_one'], ax=ax[0], color='C0')\n",
    "df.plot(x='number', y=['rel_volumes_closed_cumulative_one_for_zero'], ax=ax[1], color='C1')\n",
    "fig.savefig(fp)"
   ]
  },
  {
   "cell_type": "code",
   "execution_count": null,
   "id": "6901e28a-284c-4931-bbe8-7aa62cc58bc3",
   "metadata": {},
   "outputs": [],
   "source": [
    "# zoom in over last blocks held period for sim to show turn over\n",
    "fp = \"assets/\" + FILEPATH[len(\"results/\"):-len(\".csv\")] + \"-rel_volumes_cumulative_T-blocks_held.png\"\n",
    "fig, ax = plt.subplots(2, 1)\n",
    "df[df['timestamp'] > df['timestamp'].iloc[-1] - 12 * blocks_held].plot(x='number', y=['rel_volumes_closed_cumulative_zero_for_one'], ax=ax[0], color='C0')\n",
    "df[df['timestamp'] > df['timestamp'].iloc[-1] - 12 * blocks_held].plot(x='number', y=['rel_volumes_closed_cumulative_one_for_zero'], ax=ax[1], color='C1')\n",
    "fig.savefig(fp)"
   ]
  },
  {
   "cell_type": "code",
   "execution_count": null,
   "id": "f7224f82-7c63-43ba-9eea-b5fbee0f31c5",
   "metadata": {},
   "outputs": [],
   "source": []
  }
 ],
 "metadata": {
  "kernelspec": {
   "display_name": "Python 3 (ipykernel)",
   "language": "python",
   "name": "python3"
  },
  "language_info": {
   "codemirror_mode": {
    "name": "ipython",
    "version": 3
   },
   "file_extension": ".py",
   "mimetype": "text/x-python",
   "name": "python",
   "nbconvert_exporter": "python",
   "pygments_lexer": "ipython3",
   "version": "3.9.6"
  }
 },
 "nbformat": 4,
 "nbformat_minor": 5
}
